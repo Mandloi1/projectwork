{
  "nbformat": 4,
  "nbformat_minor": 0,
  "metadata": {
    "colab": {
      "name": "Untitled17.ipynb",
      "provenance": [],
      "authorship_tag": "ABX9TyNtbb8KzZjvpIzDLboGRo0h",
      "include_colab_link": true
    },
    "kernelspec": {
      "name": "python3",
      "display_name": "Python 3"
    }
  },
  "cells": [
    {
      "cell_type": "markdown",
      "metadata": {
        "id": "view-in-github",
        "colab_type": "text"
      },
      "source": [
        "<a href=\"https://colab.research.google.com/github/Mandloi1/projectwork/blob/master/Pro1.ipynb\" target=\"_parent\"><img src=\"https://colab.research.google.com/assets/colab-badge.svg\" alt=\"Open In Colab\"/></a>"
      ]
    },
    {
      "cell_type": "code",
      "metadata": {
        "id": "F7BWVlpOXpgv",
        "colab_type": "code",
        "colab": {}
      },
      "source": [
        "import numpy as np\n",
        "import pandas as pd\n",
        "import matplotlib.pyplot as plt\n",
        "import matplotlib.ticker as ticker\n",
        "from scipy import stats\n",
        "import seaborn as sns\n",
        "from sklearn import linear_model\n",
        "from sklearn import preprocessing\n",
        "from sklearn.model_selection import train_test_split\n",
        "from sklearn.linear_model import LinearRegression, Ridge\n",
        "from sklearn.metrics import r2_score, mean_squared_error\n",
        "from sklearn.linear_model import LogisticRegression\n",
        "from sklearn import metrics\n",
        "from sklearn import svm\n",
        "from sklearn.model_selection import train_test_split, StratifiedKFold, GridSearchCV \n",
        "from sklearn.metrics import mean_absolute_error, accuracy_score, confusion_matrix, classification_report, roc_auc_score\n",
        "from sklearn.preprocessing import StandardScaler\n",
        "from sklearn.impute import SimpleImputer\n",
        "from sklearn.ensemble import AdaBoostClassifier, RandomForestRegressor, RandomForestClassifier"
      ],
      "execution_count": 16,
      "outputs": []
    },
    {
      "cell_type": "code",
      "metadata": {
        "id": "ptLSxVE5YJZV",
        "colab_type": "code",
        "colab": {
          "base_uri": "https://localhost:8080/",
          "height": 204
        },
        "outputId": "26c9bd75-38f0-4e5e-daa9-2f45e3ba3e8f"
      },
      "source": [
        "Data =pd.read_csv(\"data.csv\")\n",
        "Data.head()"
      ],
      "execution_count": 17,
      "outputs": [
        {
          "output_type": "execute_result",
          "data": {
            "text/html": [
              "<div>\n",
              "<style scoped>\n",
              "    .dataframe tbody tr th:only-of-type {\n",
              "        vertical-align: middle;\n",
              "    }\n",
              "\n",
              "    .dataframe tbody tr th {\n",
              "        vertical-align: top;\n",
              "    }\n",
              "\n",
              "    .dataframe thead th {\n",
              "        text-align: right;\n",
              "    }\n",
              "</style>\n",
              "<table border=\"1\" class=\"dataframe\">\n",
              "  <thead>\n",
              "    <tr style=\"text-align: right;\">\n",
              "      <th></th>\n",
              "      <th>X_FERET</th>\n",
              "      <th>Y_FERET</th>\n",
              "      <th>DAVE</th>\n",
              "      <th>DMAX</th>\n",
              "      <th>DMIN</th>\n",
              "      <th>DPERP</th>\n",
              "      <th>ASPECT</th>\n",
              "      <th>AREA</th>\n",
              "      <th>PERIMETER</th>\n",
              "      <th>(Mg/Al)</th>\n",
              "      <th>Class</th>\n",
              "    </tr>\n",
              "  </thead>\n",
              "  <tbody>\n",
              "    <tr>\n",
              "      <th>0</th>\n",
              "      <td>2.99990</td>\n",
              "      <td>3.58322</td>\n",
              "      <td>3.29594</td>\n",
              "      <td>3.76466</td>\n",
              "      <td>2.58417</td>\n",
              "      <td>2.58417</td>\n",
              "      <td>1.45682</td>\n",
              "      <td>6.98565</td>\n",
              "      <td>12.001600</td>\n",
              "      <td>0.396947</td>\n",
              "      <td>0</td>\n",
              "    </tr>\n",
              "    <tr>\n",
              "      <th>1</th>\n",
              "      <td>2.33326</td>\n",
              "      <td>2.08327</td>\n",
              "      <td>2.27187</td>\n",
              "      <td>2.66788</td>\n",
              "      <td>1.48360</td>\n",
              "      <td>1.48360</td>\n",
              "      <td>1.79825</td>\n",
              "      <td>2.77760</td>\n",
              "      <td>7.742380</td>\n",
              "      <td>0.457447</td>\n",
              "      <td>0</td>\n",
              "    </tr>\n",
              "    <tr>\n",
              "      <th>2</th>\n",
              "      <td>7.83308</td>\n",
              "      <td>6.83311</td>\n",
              "      <td>7.25698</td>\n",
              "      <td>7.81399</td>\n",
              "      <td>6.81158</td>\n",
              "      <td>6.81158</td>\n",
              "      <td>1.14716</td>\n",
              "      <td>34.69220</td>\n",
              "      <td>29.452801</td>\n",
              "      <td>0.478079</td>\n",
              "      <td>0</td>\n",
              "    </tr>\n",
              "    <tr>\n",
              "      <th>3</th>\n",
              "      <td>1.83327</td>\n",
              "      <td>1.74994</td>\n",
              "      <td>1.73706</td>\n",
              "      <td>1.79886</td>\n",
              "      <td>1.73710</td>\n",
              "      <td>1.73710</td>\n",
              "      <td>1.03556</td>\n",
              "      <td>2.20124</td>\n",
              "      <td>6.644780</td>\n",
              "      <td>0.402041</td>\n",
              "      <td>0</td>\n",
              "    </tr>\n",
              "    <tr>\n",
              "      <th>4</th>\n",
              "      <td>7.33309</td>\n",
              "      <td>8.41639</td>\n",
              "      <td>8.39133</td>\n",
              "      <td>8.94592</td>\n",
              "      <td>5.48010</td>\n",
              "      <td>6.61726</td>\n",
              "      <td>1.63244</td>\n",
              "      <td>35.86570</td>\n",
              "      <td>34.866798</td>\n",
              "      <td>0.408537</td>\n",
              "      <td>0</td>\n",
              "    </tr>\n",
              "  </tbody>\n",
              "</table>\n",
              "</div>"
            ],
            "text/plain": [
              "   X_FERET  Y_FERET     DAVE     DMAX  ...      AREA  PERIMETER   (Mg/Al)  Class\n",
              "0  2.99990  3.58322  3.29594  3.76466  ...   6.98565  12.001600  0.396947      0\n",
              "1  2.33326  2.08327  2.27187  2.66788  ...   2.77760   7.742380  0.457447      0\n",
              "2  7.83308  6.83311  7.25698  7.81399  ...  34.69220  29.452801  0.478079      0\n",
              "3  1.83327  1.74994  1.73706  1.79886  ...   2.20124   6.644780  0.402041      0\n",
              "4  7.33309  8.41639  8.39133  8.94592  ...  35.86570  34.866798  0.408537      0\n",
              "\n",
              "[5 rows x 11 columns]"
            ]
          },
          "metadata": {
            "tags": []
          },
          "execution_count": 17
        }
      ]
    },
    {
      "cell_type": "code",
      "metadata": {
        "id": "y-rEev3pY1XQ",
        "colab_type": "code",
        "colab": {
          "base_uri": "https://localhost:8080/",
          "height": 297
        },
        "outputId": "154cccaf-dd98-4186-bcb0-77e9e612e285"
      },
      "source": [
        "Data.describe()"
      ],
      "execution_count": 18,
      "outputs": [
        {
          "output_type": "execute_result",
          "data": {
            "text/html": [
              "<div>\n",
              "<style scoped>\n",
              "    .dataframe tbody tr th:only-of-type {\n",
              "        vertical-align: middle;\n",
              "    }\n",
              "\n",
              "    .dataframe tbody tr th {\n",
              "        vertical-align: top;\n",
              "    }\n",
              "\n",
              "    .dataframe thead th {\n",
              "        text-align: right;\n",
              "    }\n",
              "</style>\n",
              "<table border=\"1\" class=\"dataframe\">\n",
              "  <thead>\n",
              "    <tr style=\"text-align: right;\">\n",
              "      <th></th>\n",
              "      <th>X_FERET</th>\n",
              "      <th>Y_FERET</th>\n",
              "      <th>DAVE</th>\n",
              "      <th>DMAX</th>\n",
              "      <th>DMIN</th>\n",
              "      <th>DPERP</th>\n",
              "      <th>ASPECT</th>\n",
              "      <th>AREA</th>\n",
              "      <th>PERIMETER</th>\n",
              "      <th>(Mg/Al)</th>\n",
              "      <th>Class</th>\n",
              "    </tr>\n",
              "  </thead>\n",
              "  <tbody>\n",
              "    <tr>\n",
              "      <th>count</th>\n",
              "      <td>416.000000</td>\n",
              "      <td>416.000000</td>\n",
              "      <td>416.000000</td>\n",
              "      <td>416.000000</td>\n",
              "      <td>416.000000</td>\n",
              "      <td>416.000000</td>\n",
              "      <td>416.000000</td>\n",
              "      <td>416.000000</td>\n",
              "      <td>416.000000</td>\n",
              "      <td>416.000000</td>\n",
              "      <td>416.000000</td>\n",
              "    </tr>\n",
              "    <tr>\n",
              "      <th>mean</th>\n",
              "      <td>3.756688</td>\n",
              "      <td>3.817784</td>\n",
              "      <td>3.996253</td>\n",
              "      <td>4.407264</td>\n",
              "      <td>2.956796</td>\n",
              "      <td>3.002012</td>\n",
              "      <td>1.552951</td>\n",
              "      <td>10.404225</td>\n",
              "      <td>15.336524</td>\n",
              "      <td>0.382474</td>\n",
              "      <td>0.021635</td>\n",
              "    </tr>\n",
              "    <tr>\n",
              "      <th>std</th>\n",
              "      <td>2.124756</td>\n",
              "      <td>1.904816</td>\n",
              "      <td>2.154919</td>\n",
              "      <td>2.371287</td>\n",
              "      <td>1.591983</td>\n",
              "      <td>1.586973</td>\n",
              "      <td>0.570683</td>\n",
              "      <td>14.107897</td>\n",
              "      <td>10.016187</td>\n",
              "      <td>0.195499</td>\n",
              "      <td>0.145662</td>\n",
              "    </tr>\n",
              "    <tr>\n",
              "      <th>min</th>\n",
              "      <td>1.249960</td>\n",
              "      <td>1.249960</td>\n",
              "      <td>1.274790</td>\n",
              "      <td>1.455310</td>\n",
              "      <td>0.668402</td>\n",
              "      <td>0.668402</td>\n",
              "      <td>1.006800</td>\n",
              "      <td>1.034650</td>\n",
              "      <td>5.132990</td>\n",
              "      <td>0.000000</td>\n",
              "      <td>0.000000</td>\n",
              "    </tr>\n",
              "    <tr>\n",
              "      <th>25%</th>\n",
              "      <td>2.333260</td>\n",
              "      <td>2.583250</td>\n",
              "      <td>2.548460</td>\n",
              "      <td>2.866112</td>\n",
              "      <td>1.955805</td>\n",
              "      <td>1.985015</td>\n",
              "      <td>1.202222</td>\n",
              "      <td>3.954600</td>\n",
              "      <td>9.548790</td>\n",
              "      <td>0.379159</td>\n",
              "      <td>0.000000</td>\n",
              "    </tr>\n",
              "    <tr>\n",
              "      <th>50%</th>\n",
              "      <td>3.249890</td>\n",
              "      <td>3.416550</td>\n",
              "      <td>3.470475</td>\n",
              "      <td>3.784895</td>\n",
              "      <td>2.692495</td>\n",
              "      <td>2.733415</td>\n",
              "      <td>1.370040</td>\n",
              "      <td>6.780805</td>\n",
              "      <td>12.812250</td>\n",
              "      <td>0.423115</td>\n",
              "      <td>0.000000</td>\n",
              "    </tr>\n",
              "    <tr>\n",
              "      <th>75%</th>\n",
              "      <td>4.416520</td>\n",
              "      <td>4.416520</td>\n",
              "      <td>4.694853</td>\n",
              "      <td>5.238733</td>\n",
              "      <td>3.506182</td>\n",
              "      <td>3.634710</td>\n",
              "      <td>1.700100</td>\n",
              "      <td>12.701425</td>\n",
              "      <td>17.806801</td>\n",
              "      <td>0.448065</td>\n",
              "      <td>0.000000</td>\n",
              "    </tr>\n",
              "    <tr>\n",
              "      <th>max</th>\n",
              "      <td>19.832701</td>\n",
              "      <td>16.832800</td>\n",
              "      <td>18.147800</td>\n",
              "      <td>19.767500</td>\n",
              "      <td>16.858801</td>\n",
              "      <td>16.858801</td>\n",
              "      <td>5.076360</td>\n",
              "      <td>218.263000</td>\n",
              "      <td>118.197998</td>\n",
              "      <td>2.454545</td>\n",
              "      <td>1.000000</td>\n",
              "    </tr>\n",
              "  </tbody>\n",
              "</table>\n",
              "</div>"
            ],
            "text/plain": [
              "          X_FERET     Y_FERET        DAVE  ...   PERIMETER     (Mg/Al)       Class\n",
              "count  416.000000  416.000000  416.000000  ...  416.000000  416.000000  416.000000\n",
              "mean     3.756688    3.817784    3.996253  ...   15.336524    0.382474    0.021635\n",
              "std      2.124756    1.904816    2.154919  ...   10.016187    0.195499    0.145662\n",
              "min      1.249960    1.249960    1.274790  ...    5.132990    0.000000    0.000000\n",
              "25%      2.333260    2.583250    2.548460  ...    9.548790    0.379159    0.000000\n",
              "50%      3.249890    3.416550    3.470475  ...   12.812250    0.423115    0.000000\n",
              "75%      4.416520    4.416520    4.694853  ...   17.806801    0.448065    0.000000\n",
              "max     19.832701   16.832800   18.147800  ...  118.197998    2.454545    1.000000\n",
              "\n",
              "[8 rows x 11 columns]"
            ]
          },
          "metadata": {
            "tags": []
          },
          "execution_count": 18
        }
      ]
    },
    {
      "cell_type": "code",
      "metadata": {
        "id": "nR4qtgT3ZbSP",
        "colab_type": "code",
        "colab": {}
      },
      "source": [
        "X = Data.drop(['(Mg/Al)','Class'], axis = 1)\n",
        "y = Data['Class']"
      ],
      "execution_count": 19,
      "outputs": []
    },
    {
      "cell_type": "code",
      "metadata": {
        "id": "PC13DxXsavkz",
        "colab_type": "code",
        "colab": {}
      },
      "source": [
        "X_train, X_test, y_train, y_test= train_test_split(X, y, test_size=0.2, stratify=y, random_state=1)"
      ],
      "execution_count": 20,
      "outputs": []
    },
    {
      "cell_type": "code",
      "metadata": {
        "id": "ncmrivljb3Dl",
        "colab_type": "code",
        "colab": {
          "base_uri": "https://localhost:8080/",
          "height": 357
        },
        "outputId": "ca35660b-6cde-47e6-d417-e79a00fae031"
      },
      "source": [
        "# Instantiating the classifier \n",
        "rfr = RandomForestRegressor(n_estimators=25,\n",
        "                            random_state=1111,\n",
        "                            max_features=4)\n",
        "\n",
        "# Fitting the instantiator \n",
        "rfr.fit(X_train, y_train)\n",
        "\n",
        "# Printing the training and testing accuracies \n",
        "print('The training error is {0:.2f}'.format(mean_absolute_error(y_train, rfr.predict(X_train))))\n",
        "print('The testing error is {0:.2f}'.format(mean_absolute_error(y_test, rfr.predict(X_test))))\n",
        "rfr.get_params()"
      ],
      "execution_count": 21,
      "outputs": [
        {
          "output_type": "stream",
          "text": [
            "The training error is 0.02\n",
            "The testing error is 0.04\n"
          ],
          "name": "stdout"
        },
        {
          "output_type": "execute_result",
          "data": {
            "text/plain": [
              "{'bootstrap': True,\n",
              " 'ccp_alpha': 0.0,\n",
              " 'criterion': 'mse',\n",
              " 'max_depth': None,\n",
              " 'max_features': 4,\n",
              " 'max_leaf_nodes': None,\n",
              " 'max_samples': None,\n",
              " 'min_impurity_decrease': 0.0,\n",
              " 'min_impurity_split': None,\n",
              " 'min_samples_leaf': 1,\n",
              " 'min_samples_split': 2,\n",
              " 'min_weight_fraction_leaf': 0.0,\n",
              " 'n_estimators': 25,\n",
              " 'n_jobs': None,\n",
              " 'oob_score': False,\n",
              " 'random_state': 1111,\n",
              " 'verbose': 0,\n",
              " 'warm_start': False}"
            ]
          },
          "metadata": {
            "tags": []
          },
          "execution_count": 21
        }
      ]
    },
    {
      "cell_type": "code",
      "metadata": {
        "id": "jMEEAVzhc4e5",
        "colab_type": "code",
        "colab": {
          "base_uri": "https://localhost:8080/",
          "height": 282
        },
        "outputId": "5ce0f219-7391-4db1-fb61-d4907cfbc686"
      },
      "source": [
        "plt.plot(y_test, 'o')\n",
        "plt.plot(rfr.predict(X_test))"
      ],
      "execution_count": 22,
      "outputs": [
        {
          "output_type": "execute_result",
          "data": {
            "text/plain": [
              "[<matplotlib.lines.Line2D at 0x7f4eba2e27f0>]"
            ]
          },
          "metadata": {
            "tags": []
          },
          "execution_count": 22
        },
        {
          "output_type": "display_data",
          "data": {
            "image/png": "[encoded data removed]",
            "text/plain": [
              "<Figure size 432x288 with 1 Axes>"
            ]
          },
          "metadata": {
            "tags": [],
            "needs_background": "light"
          }
        }
      ]
    },
    {
      "cell_type": "code",
      "metadata": {
        "id": "vWb3U6x3gzHm",
        "colab_type": "code",
        "colab": {
          "base_uri": "https://localhost:8080/",
          "height": 51
        },
        "outputId": "e0bc51a2-19ff-451e-c112-aa6b52f4a473"
      },
      "source": [
        "print(X.shape)\n",
        "print(y.shape)"
      ],
      "execution_count": 37,
      "outputs": [
        {
          "output_type": "stream",
          "text": [
            "(416, 9)\n",
            "(416,)\n"
          ],
          "name": "stdout"
        }
      ]
    },
    {
      "cell_type": "code",
      "metadata": {
        "id": "fFjh-vDPg9M2",
        "colab_type": "code",
        "colab": {}
      },
      "source": [
        "Y = np.array(y).reshape((-1,1))"
      ],
      "execution_count": 38,
      "outputs": []
    },
    {
      "cell_type": "code",
      "metadata": {
        "id": "uuHwAoCBjNRs",
        "colab_type": "code",
        "colab": {
          "base_uri": "https://localhost:8080/",
          "height": 34
        },
        "outputId": "e5699b6d-4d4b-446c-f1c8-3f78a3197eac"
      },
      "source": [
        "print(Y.shape)"
      ],
      "execution_count": 39,
      "outputs": [
        {
          "output_type": "stream",
          "text": [
            "(416, 1)\n"
          ],
          "name": "stdout"
        }
      ]
    },
    {
      "cell_type": "code",
      "metadata": {
        "id": "9qG4jpO4fk0o",
        "colab_type": "code",
        "colab": {
          "base_uri": "https://localhost:8080/",
          "height": 592
        },
        "outputId": "15b43c0e-331f-4dae-9a92-1a4d7d81a69f"
      },
      "source": [
        "plt.scatter(X, Y)\n",
        "plt.show()"
      ],
      "execution_count": 40,
      "outputs": [
        {
          "output_type": "error",
          "ename": "ValueError",
          "evalue": "ignored",
          "traceback": [
            "\u001b[0;31m---------------------------------------------------------------------------\u001b[0m",
            "\u001b[0;31mValueError\u001b[0m                                Traceback (most recent call last)",
            "\u001b[0;32m<ipython-input-40-5b79430a33d7>\u001b[0m in \u001b[0;36m<module>\u001b[0;34m()\u001b[0m\n\u001b[0;32m----> 1\u001b[0;31m \u001b[0mplt\u001b[0m\u001b[0;34m.\u001b[0m\u001b[0mscatter\u001b[0m\u001b[0;34m(\u001b[0m\u001b[0mX\u001b[0m\u001b[0;34m,\u001b[0m \u001b[0mY\u001b[0m\u001b[0;34m)\u001b[0m\u001b[0;34m\u001b[0m\u001b[0;34m\u001b[0m\u001b[0m\n\u001b[0m\u001b[1;32m      2\u001b[0m \u001b[0mplt\u001b[0m\u001b[0;34m.\u001b[0m\u001b[0mshow\u001b[0m\u001b[0;34m(\u001b[0m\u001b[0;34m)\u001b[0m\u001b[0;34m\u001b[0m\u001b[0;34m\u001b[0m\u001b[0m\n",
            "\u001b[0;32m/usr/local/lib/python3.6/dist-packages/matplotlib/pyplot.py\u001b[0m in \u001b[0;36mscatter\u001b[0;34m(x, y, s, c, marker, cmap, norm, vmin, vmax, alpha, linewidths, verts, edgecolors, plotnonfinite, data, **kwargs)\u001b[0m\n\u001b[1;32m   2814\u001b[0m         \u001b[0mverts\u001b[0m\u001b[0;34m=\u001b[0m\u001b[0mverts\u001b[0m\u001b[0;34m,\u001b[0m \u001b[0medgecolors\u001b[0m\u001b[0;34m=\u001b[0m\u001b[0medgecolors\u001b[0m\u001b[0;34m,\u001b[0m\u001b[0;34m\u001b[0m\u001b[0;34m\u001b[0m\u001b[0m\n\u001b[1;32m   2815\u001b[0m         plotnonfinite=plotnonfinite, **({\"data\": data} if data is not\n\u001b[0;32m-> 2816\u001b[0;31m         None else {}), **kwargs)\n\u001b[0m\u001b[1;32m   2817\u001b[0m     \u001b[0msci\u001b[0m\u001b[0;34m(\u001b[0m\u001b[0m__ret\u001b[0m\u001b[0;34m)\u001b[0m\u001b[0;34m\u001b[0m\u001b[0;34m\u001b[0m\u001b[0m\n\u001b[1;32m   2818\u001b[0m     \u001b[0;32mreturn\u001b[0m \u001b[0m__ret\u001b[0m\u001b[0;34m\u001b[0m\u001b[0;34m\u001b[0m\u001b[0m\n",
            "\u001b[0;32m/usr/local/lib/python3.6/dist-packages/matplotlib/__init__.py\u001b[0m in \u001b[0;36minner\u001b[0;34m(ax, data, *args, **kwargs)\u001b[0m\n\u001b[1;32m   1563\u001b[0m     \u001b[0;32mdef\u001b[0m \u001b[0minner\u001b[0m\u001b[0;34m(\u001b[0m\u001b[0max\u001b[0m\u001b[0;34m,\u001b[0m \u001b[0;34m*\u001b[0m\u001b[0margs\u001b[0m\u001b[0;34m,\u001b[0m \u001b[0mdata\u001b[0m\u001b[0;34m=\u001b[0m\u001b[0;32mNone\u001b[0m\u001b[0;34m,\u001b[0m \u001b[0;34m**\u001b[0m\u001b[0mkwargs\u001b[0m\u001b[0;34m)\u001b[0m\u001b[0;34m:\u001b[0m\u001b[0;34m\u001b[0m\u001b[0;34m\u001b[0m\u001b[0m\n\u001b[1;32m   1564\u001b[0m         \u001b[0;32mif\u001b[0m \u001b[0mdata\u001b[0m \u001b[0;32mis\u001b[0m \u001b[0;32mNone\u001b[0m\u001b[0;34m:\u001b[0m\u001b[0;34m\u001b[0m\u001b[0;34m\u001b[0m\u001b[0m\n\u001b[0;32m-> 1565\u001b[0;31m             \u001b[0;32mreturn\u001b[0m \u001b[0mfunc\u001b[0m\u001b[0;34m(\u001b[0m\u001b[0max\u001b[0m\u001b[0;34m,\u001b[0m \u001b[0;34m*\u001b[0m\u001b[0mmap\u001b[0m\u001b[0;34m(\u001b[0m\u001b[0msanitize_sequence\u001b[0m\u001b[0;34m,\u001b[0m \u001b[0margs\u001b[0m\u001b[0;34m)\u001b[0m\u001b[0;34m,\u001b[0m \u001b[0;34m**\u001b[0m\u001b[0mkwargs\u001b[0m\u001b[0;34m)\u001b[0m\u001b[0;34m\u001b[0m\u001b[0;34m\u001b[0m\u001b[0m\n\u001b[0m\u001b[1;32m   1566\u001b[0m \u001b[0;34m\u001b[0m\u001b[0m\n\u001b[1;32m   1567\u001b[0m         \u001b[0mbound\u001b[0m \u001b[0;34m=\u001b[0m \u001b[0mnew_sig\u001b[0m\u001b[0;34m.\u001b[0m\u001b[0mbind\u001b[0m\u001b[0;34m(\u001b[0m\u001b[0max\u001b[0m\u001b[0;34m,\u001b[0m \u001b[0;34m*\u001b[0m\u001b[0margs\u001b[0m\u001b[0;34m,\u001b[0m \u001b[0;34m**\u001b[0m\u001b[0mkwargs\u001b[0m\u001b[0;34m)\u001b[0m\u001b[0;34m\u001b[0m\u001b[0;34m\u001b[0m\u001b[0m\n",
            "\u001b[0;32m/usr/local/lib/python3.6/dist-packages/matplotlib/cbook/deprecation.py\u001b[0m in \u001b[0;36mwrapper\u001b[0;34m(*args, **kwargs)\u001b[0m\n\u001b[1;32m    356\u001b[0m                 \u001b[0;34mf\"%(removal)s.  If any parameter follows {name!r}, they \"\u001b[0m\u001b[0;34m\u001b[0m\u001b[0;34m\u001b[0m\u001b[0m\n\u001b[1;32m    357\u001b[0m                 f\"should be pass as keyword, not positionally.\")\n\u001b[0;32m--> 358\u001b[0;31m         \u001b[0;32mreturn\u001b[0m \u001b[0mfunc\u001b[0m\u001b[0;34m(\u001b[0m\u001b[0;34m*\u001b[0m\u001b[0margs\u001b[0m\u001b[0;34m,\u001b[0m \u001b[0;34m**\u001b[0m\u001b[0mkwargs\u001b[0m\u001b[0;34m)\u001b[0m\u001b[0;34m\u001b[0m\u001b[0;34m\u001b[0m\u001b[0m\n\u001b[0m\u001b[1;32m    359\u001b[0m \u001b[0;34m\u001b[0m\u001b[0m\n\u001b[1;32m    360\u001b[0m     \u001b[0;32mreturn\u001b[0m \u001b[0mwrapper\u001b[0m\u001b[0;34m\u001b[0m\u001b[0;34m\u001b[0m\u001b[0m\n",
            "\u001b[0;32m/usr/local/lib/python3.6/dist-packages/matplotlib/axes/_axes.py\u001b[0m in \u001b[0;36mscatter\u001b[0;34m(self, x, y, s, c, marker, cmap, norm, vmin, vmax, alpha, linewidths, verts, edgecolors, plotnonfinite, **kwargs)\u001b[0m\n\u001b[1;32m   4389\u001b[0m         \u001b[0my\u001b[0m \u001b[0;34m=\u001b[0m \u001b[0mnp\u001b[0m\u001b[0;34m.\u001b[0m\u001b[0mma\u001b[0m\u001b[0;34m.\u001b[0m\u001b[0mravel\u001b[0m\u001b[0;34m(\u001b[0m\u001b[0my\u001b[0m\u001b[0;34m)\u001b[0m\u001b[0;34m\u001b[0m\u001b[0;34m\u001b[0m\u001b[0m\n\u001b[1;32m   4390\u001b[0m         \u001b[0;32mif\u001b[0m \u001b[0mx\u001b[0m\u001b[0;34m.\u001b[0m\u001b[0msize\u001b[0m \u001b[0;34m!=\u001b[0m \u001b[0my\u001b[0m\u001b[0;34m.\u001b[0m\u001b[0msize\u001b[0m\u001b[0;34m:\u001b[0m\u001b[0;34m\u001b[0m\u001b[0;34m\u001b[0m\u001b[0m\n\u001b[0;32m-> 4391\u001b[0;31m             \u001b[0;32mraise\u001b[0m \u001b[0mValueError\u001b[0m\u001b[0;34m(\u001b[0m\u001b[0;34m\"x and y must be the same size\"\u001b[0m\u001b[0;34m)\u001b[0m\u001b[0;34m\u001b[0m\u001b[0;34m\u001b[0m\u001b[0m\n\u001b[0m\u001b[1;32m   4392\u001b[0m \u001b[0;34m\u001b[0m\u001b[0m\n\u001b[1;32m   4393\u001b[0m         \u001b[0;32mif\u001b[0m \u001b[0ms\u001b[0m \u001b[0;32mis\u001b[0m \u001b[0;32mNone\u001b[0m\u001b[0;34m:\u001b[0m\u001b[0;34m\u001b[0m\u001b[0;34m\u001b[0m\u001b[0m\n",
            "\u001b[0;31mValueError\u001b[0m: x and y must be the same size"
          ]
        },
        {
          "output_type": "display_data",
          "data": {
            "image/png": "[encoded data removed]",
            "text/plain": [
              "<Figure size 432x288 with 1 Axes>"
            ]
          },
          "metadata": {
            "tags": [],
            "needs_background": "light"
          }
        }
      ]
    },
    {
      "cell_type": "code",
      "metadata": {
        "id": "naKnNLRodPhT",
        "colab_type": "code",
        "colab": {}
      },
      "source": [
        "model = LinearRegression(normalize=False)"
      ],
      "execution_count": 23,
      "outputs": []
    },
    {
      "cell_type": "code",
      "metadata": {
        "id": "79h47gP9dVvl",
        "colab_type": "code",
        "colab": {
          "base_uri": "https://localhost:8080/",
          "height": 34
        },
        "outputId": "e1f93759-da14-458d-f5af-65088834621b"
      },
      "source": [
        "model.fit(X, y)"
      ],
      "execution_count": 24,
      "outputs": [
        {
          "output_type": "execute_result",
          "data": {
            "text/plain": [
              "LinearRegression(copy_X=True, fit_intercept=True, n_jobs=None, normalize=False)"
            ]
          },
          "metadata": {
            "tags": []
          },
          "execution_count": 24
        }
      ]
    },
    {
      "cell_type": "code",
      "metadata": {
        "id": "CStsSNcBdYSW",
        "colab_type": "code",
        "colab": {
          "base_uri": "https://localhost:8080/",
          "height": 68
        },
        "outputId": "130023b4-f5fb-4c3d-efcf-1628ac32f73a"
      },
      "source": [
        "print('intercept:', model.intercept_)\n",
        "print('slope:', model.coef_)"
      ],
      "execution_count": 25,
      "outputs": [
        {
          "output_type": "stream",
          "text": [
            "intercept: 0.04824417546792376\n",
            "slope: [ 0.00938864  0.0093174   0.03190096 -0.07124117 -0.05129569  0.03395818\n",
            "  0.00763051  0.00022924  0.00812022]\n"
          ],
          "name": "stdout"
        }
      ]
    },
    {
      "cell_type": "code",
      "metadata": {
        "id": "LbM7MgdwdbM9",
        "colab_type": "code",
        "colab": {
          "base_uri": "https://localhost:8080/",
          "height": 1000
        },
        "outputId": "cb542f60-9c04-4be6-d4db-4e2d7415703c"
      },
      "source": [
        "y_pred = model.predict(X)\n",
        "print(y_pred)\n",
        "print(y_pred.ndim)"
      ],
      "execution_count": 26,
      "outputs": [
        {
          "output_type": "stream",
          "text": [
            "[ 1.21105396e-02  2.34791064e-02 -1.94663100e-03  4.12685143e-02\n",
            "  7.32932753e-02 -1.54288041e-02  3.57144969e-02  2.54703696e-02\n",
            "  2.46465202e-03  5.21764886e-02  2.53760702e-03  2.16005944e-02\n",
            "  4.13292402e-02  2.44426384e-02  1.31067317e-02  2.84450156e-02\n",
            " -6.27867743e-03 -9.36439334e-04  5.64796108e-02 -1.24284219e-02\n",
            "  7.11675633e-02  6.27490799e-02 -4.62730680e-02  3.45476787e-02\n",
            "  2.47913729e-02  3.74231315e-02  3.65090168e-03 -1.40259962e-02\n",
            "  3.85504173e-02 -8.61004381e-03  3.25240589e-02  3.15502944e-02\n",
            "  4.88964688e-02  4.93496522e-02 -4.08417607e-03  2.92639476e-02\n",
            "  4.20536978e-02 -6.30336265e-03  1.91971418e-02  3.47227399e-02\n",
            "  3.58262920e-02  2.29163756e-02  3.96245490e-02  2.54313148e-02\n",
            "  6.58025817e-03  6.21206918e-02  3.08154720e-02  2.46522081e-02\n",
            "  3.77985468e-03  2.39236335e-02  4.12982996e-02  2.46405167e-02\n",
            " -4.88226492e-03  9.83281292e-03 -1.52182719e-02  1.47267505e-02\n",
            "  3.72172220e-02  7.57499267e-02  2.25411757e-02  2.54932892e-02\n",
            "  3.28150765e-02 -9.33558069e-04  1.61873787e-03 -5.75275303e-03\n",
            "  1.99077503e-02  2.22845479e-02  3.75377944e-02  4.88525992e-03\n",
            " -9.21481838e-03  2.38525091e-02  2.58120584e-02  1.89445389e-02\n",
            " -1.56241433e-02  3.86510378e-02  2.53606730e-02  3.59114374e-02\n",
            "  2.91723511e-02  2.21910189e-02  2.09609609e-02  2.14788696e-02\n",
            "  4.31299283e-02  2.05767154e-02  3.14041366e-02  6.36610583e-02\n",
            "  2.71955868e-01  2.40630479e-02  6.48954508e-03  2.36001237e-02\n",
            " -5.90154065e-03  2.09831400e-02  2.55345058e-02  2.14788584e-02\n",
            "  2.90293526e-02  1.79586084e-02 -7.33810607e-03  6.64629886e-02\n",
            "  6.44809815e-02  2.86907906e-02  5.65071411e-03  7.72047810e-03\n",
            "  4.62646234e-03 -4.95659309e-04  3.56837213e-02 -1.43437533e-03\n",
            " -2.20932480e-02  3.32023318e-02 -8.21725382e-03  3.65480105e-02\n",
            "  2.92927728e-02  2.39107005e-02  2.09013081e-02  3.54019542e-02\n",
            " -2.58985403e-02  2.91998070e-02  2.80794180e-02  2.89422417e-02\n",
            " -4.54316413e-04  2.00025521e-03  2.40211969e-02  3.58863007e-02\n",
            "  3.51113564e-02  4.69478218e-02  1.66336661e-02 -1.00092849e-02\n",
            "  3.12990110e-02  3.05291651e-02  1.19006350e-02  2.82052218e-02\n",
            " -2.60158378e-05  3.26057045e-02  2.79784772e-02  1.36006850e-02\n",
            "  3.71381829e-02 -1.84695210e-02  2.01239828e-02  1.73929943e-02\n",
            "  3.49657784e-02  3.22706049e-02 -4.61681630e-03  1.83530294e-02\n",
            "  1.72409916e-02  2.92715628e-02  2.63042708e-02  3.10877209e-02\n",
            "  2.82874376e-02 -3.28046966e-03  3.04891931e-02  4.64868652e-02\n",
            "  2.62158217e-02  2.84495492e-02 -1.18305041e-02  3.31290829e-02\n",
            "  2.44343345e-02  3.93963340e-02  3.78360140e-02  3.77449700e-02\n",
            "  1.49328400e-02  5.28531644e-03 -3.18465374e-02  2.16449590e-02\n",
            "  2.45217776e-02  9.74889978e-03  2.25796271e-02 -4.19795006e-02\n",
            "  2.86190705e-02  2.86566825e-02  3.69867239e-02  2.50547204e-02\n",
            "  3.52373938e-02  2.75915304e-02  2.10691112e-02  3.23022820e-02\n",
            "  2.33470902e-02  2.80874126e-02 -8.93899024e-03  1.69546229e-04\n",
            "  1.68294050e-02  3.76256208e-02  3.87156449e-02 -7.26383845e-03\n",
            "  9.97281466e-03  3.02158385e-02  2.90636306e-02  2.77433486e-02\n",
            "  2.18672952e-02  1.88074137e-02  1.75239999e-02  2.07944845e-02\n",
            "  2.33847116e-02 -9.24845821e-03  3.56128917e-03  3.58631869e-03\n",
            "  1.32300711e-02 -1.09825721e-01 -4.89989129e-03  4.23771246e-02\n",
            "  6.96184764e-03  3.94248994e-02  2.34791227e-02  3.14792156e-02\n",
            "  3.69470684e-02  1.91159626e-02  2.58724388e-02  1.33299263e-02\n",
            "  8.48150944e-03 -1.52961411e-02  3.30675472e-02  1.06335056e-02\n",
            "  3.73460887e-02  1.51187015e-02  3.84365142e-02  2.29166525e-02\n",
            "  8.36060865e-03 -5.23798435e-03  2.24489232e-02  1.37389611e-02\n",
            "  1.90503475e-02  4.05902358e-02  4.87020470e-03  2.04111810e-02\n",
            "  3.24872511e-02  3.85142592e-02  1.98394931e-02  7.37263484e-03\n",
            "  3.91955466e-03  2.11584375e-02  5.29772185e-02  3.84269290e-02\n",
            "  5.22800570e-02  6.62613775e-03  5.54831380e-02  1.94073898e-02\n",
            "  1.32460639e-02 -3.23907040e-02 -5.45922029e-03  2.84955870e-02\n",
            "  1.31101866e-02  1.66840548e-02 -2.11705276e-03  3.09545322e-02\n",
            "  4.01632564e-02  2.58994560e-02 -1.10478074e-02  4.34062151e-02\n",
            "  2.19317454e-02  1.04635816e-02  1.39591434e-02  3.44293767e-02\n",
            "  3.77645988e-02  1.51996998e-02  8.34098133e-02  3.95785130e-02\n",
            "  5.38005370e-02  1.32444217e-02  2.69315358e-02  3.60496400e-02\n",
            "  3.08761072e-02  3.48155942e-02  2.14681514e-02  1.74484236e-02\n",
            "  4.51338593e-02  1.52083694e-02 -2.52442270e-02  2.63146012e-02\n",
            "  2.92303814e-02  5.06571100e-02  1.66987666e-02  3.27329864e-02\n",
            " -5.43426664e-03  4.52489369e-02  5.56497545e-03 -1.24509895e-02\n",
            "  1.20568294e-02 -2.16988992e-02  2.14355602e-02  4.60949415e-04\n",
            "  3.38352670e-02 -1.34739279e-02 -6.65168693e-03  2.03230644e-02\n",
            "  2.23292856e-02  3.57505209e-02  2.45972741e-02  2.46883768e-02\n",
            "  4.98830011e-02  1.52125066e-02  3.00450816e-02  3.87308215e-02\n",
            "  3.06251384e-02  1.46677046e-02  2.47594597e-02  3.31759324e-02\n",
            " -1.06089183e-02  2.99241981e-02  1.96255737e-02  3.41169620e-02\n",
            "  3.09896308e-02  3.11124773e-02  2.42802060e-02  1.68009651e-02\n",
            "  3.35217431e-02  3.68113524e-02  1.99669582e-02  3.57942141e-03\n",
            "  3.76531530e-02  2.12917747e-02  3.40567041e-02  1.35281805e-02\n",
            "  1.63502636e-02  4.89030261e-02  1.07100824e-02  2.33360345e-02\n",
            "  3.83566162e-02  1.67293738e-02  1.93208430e-02  2.59833553e-02\n",
            "  1.99999435e-02  3.68709548e-02  2.41674071e-02  2.53717349e-02\n",
            "  5.23780357e-02  1.48563023e-02  5.89785611e-02  5.40918485e-02\n",
            "  2.02875660e-02  1.63232198e-02  2.05752704e-02  2.10845127e-02\n",
            "  1.60081245e-02  2.58028337e-02  2.55477619e-02 -1.50428007e-02\n",
            " -2.98562886e-02  8.59736187e-02  2.18823874e-02 -9.21527386e-03\n",
            "  2.39280125e-02 -8.56135451e-05  8.76716749e-03  2.97046281e-02\n",
            "  5.00980842e-03  1.98047808e-02  1.37429586e-03  6.26244499e-03\n",
            "  1.70850910e-02  2.43143399e-02 -8.89957379e-03  3.20279569e-02\n",
            "  4.51324219e-02  2.26672453e-02  2.76730707e-02  4.13259606e-02\n",
            "  2.24975252e-02  1.65673005e-02  3.43305476e-02  5.44020431e-02\n",
            "  3.52595083e-02  3.15582858e-02  3.58571840e-02  2.47082764e-02\n",
            "  7.43850533e-02  3.73408869e-03  3.31038448e-02  3.80646258e-02\n",
            "  1.50855037e-02  8.03134259e-03 -4.56225186e-03  1.18445873e-02\n",
            "  3.35476414e-02  3.50914507e-02  2.90492699e-02  6.56221774e-03\n",
            "  2.23715369e-02 -2.33337748e-02  4.46938988e-03  2.62307957e-03\n",
            "  1.37760843e-02  4.20115480e-03  1.83434447e-02  7.83239231e-03\n",
            "  3.39123335e-02  2.83032909e-02  3.92023964e-02  1.33624144e-02\n",
            " -3.01711105e-03 -4.28300843e-02  2.07959590e-02  2.86819900e-02\n",
            "  3.95394321e-02  4.20666189e-02  3.81506063e-02  2.86809456e-03\n",
            "  2.71208680e-02  9.14208436e-03  3.66838985e-02  2.28011078e-02\n",
            "  6.74197493e-02  5.22739440e-02  3.94899455e-02 -2.75412493e-03\n",
            "  2.24763051e-02  3.50374037e-02  1.40945381e-02 -2.84072459e-02\n",
            "  3.56596659e-02  2.77662483e-02  3.97921131e-03  3.11352970e-02\n",
            "  2.37564576e-03 -8.37928350e-03  3.14624713e-02  2.52043823e-02\n",
            "  4.15259785e-02  4.02288283e-02  5.19298574e-03  1.87129616e-02]\n",
            "1\n"
          ],
          "name": "stdout"
        }
      ]
    },
    {
      "cell_type": "code",
      "metadata": {
        "id": "KMUpiEyQdnxK",
        "colab_type": "code",
        "colab": {
          "base_uri": "https://localhost:8080/",
          "height": 698
        },
        "outputId": "aab6d366-a29a-4110-c090-89c95c1c76b9"
      },
      "source": [
        "plt.figure(figsize=(10,5))\n",
        "plt.scatter(X, y, label='Data', c='#388fd8', s=6)\n",
        "plt.plot(X, y_pred, c='#ff7702', lw=3, label='Regression')\n",
        "plt.title('Linear Regression', fontSize=14)\n",
        "plt.xlabel('Income', fontSize=11)\n",
        "plt.ylabel('Price', fontSize=11)\n",
        "plt.legend(frameon=True, loc=0, fontsize=10)\n",
        "plt.show()"
      ],
      "execution_count": 27,
      "outputs": [
        {
          "output_type": "error",
          "ename": "ValueError",
          "evalue": "ignored",
          "traceback": [
            "\u001b[0;31m---------------------------------------------------------------------------\u001b[0m",
            "\u001b[0;31mValueError\u001b[0m                                Traceback (most recent call last)",
            "\u001b[0;32m<ipython-input-27-5ea95b075340>\u001b[0m in \u001b[0;36m<module>\u001b[0;34m()\u001b[0m\n\u001b[1;32m      1\u001b[0m \u001b[0mplt\u001b[0m\u001b[0;34m.\u001b[0m\u001b[0mfigure\u001b[0m\u001b[0;34m(\u001b[0m\u001b[0mfigsize\u001b[0m\u001b[0;34m=\u001b[0m\u001b[0;34m(\u001b[0m\u001b[0;36m10\u001b[0m\u001b[0;34m,\u001b[0m\u001b[0;36m5\u001b[0m\u001b[0;34m)\u001b[0m\u001b[0;34m)\u001b[0m\u001b[0;34m\u001b[0m\u001b[0;34m\u001b[0m\u001b[0m\n\u001b[0;32m----> 2\u001b[0;31m \u001b[0mplt\u001b[0m\u001b[0;34m.\u001b[0m\u001b[0mscatter\u001b[0m\u001b[0;34m(\u001b[0m\u001b[0mX\u001b[0m\u001b[0;34m,\u001b[0m \u001b[0my\u001b[0m\u001b[0;34m,\u001b[0m \u001b[0mlabel\u001b[0m\u001b[0;34m=\u001b[0m\u001b[0;34m'Data'\u001b[0m\u001b[0;34m,\u001b[0m \u001b[0mc\u001b[0m\u001b[0;34m=\u001b[0m\u001b[0;34m'#388fd8'\u001b[0m\u001b[0;34m,\u001b[0m \u001b[0ms\u001b[0m\u001b[0;34m=\u001b[0m\u001b[0;36m6\u001b[0m\u001b[0;34m)\u001b[0m\u001b[0;34m\u001b[0m\u001b[0;34m\u001b[0m\u001b[0m\n\u001b[0m\u001b[1;32m      3\u001b[0m \u001b[0mplt\u001b[0m\u001b[0;34m.\u001b[0m\u001b[0mplot\u001b[0m\u001b[0;34m(\u001b[0m\u001b[0mX\u001b[0m\u001b[0;34m,\u001b[0m \u001b[0my_pred\u001b[0m\u001b[0;34m,\u001b[0m \u001b[0mc\u001b[0m\u001b[0;34m=\u001b[0m\u001b[0;34m'#ff7702'\u001b[0m\u001b[0;34m,\u001b[0m \u001b[0mlw\u001b[0m\u001b[0;34m=\u001b[0m\u001b[0;36m3\u001b[0m\u001b[0;34m,\u001b[0m \u001b[0mlabel\u001b[0m\u001b[0;34m=\u001b[0m\u001b[0;34m'Regression'\u001b[0m\u001b[0;34m)\u001b[0m\u001b[0;34m\u001b[0m\u001b[0;34m\u001b[0m\u001b[0m\n\u001b[1;32m      4\u001b[0m \u001b[0mplt\u001b[0m\u001b[0;34m.\u001b[0m\u001b[0mtitle\u001b[0m\u001b[0;34m(\u001b[0m\u001b[0;34m'Linear Regression'\u001b[0m\u001b[0;34m,\u001b[0m \u001b[0mfontSize\u001b[0m\u001b[0;34m=\u001b[0m\u001b[0;36m14\u001b[0m\u001b[0;34m)\u001b[0m\u001b[0;34m\u001b[0m\u001b[0;34m\u001b[0m\u001b[0m\n\u001b[1;32m      5\u001b[0m \u001b[0mplt\u001b[0m\u001b[0;34m.\u001b[0m\u001b[0mxlabel\u001b[0m\u001b[0;34m(\u001b[0m\u001b[0;34m'Income'\u001b[0m\u001b[0;34m,\u001b[0m \u001b[0mfontSize\u001b[0m\u001b[0;34m=\u001b[0m\u001b[0;36m11\u001b[0m\u001b[0;34m)\u001b[0m\u001b[0;34m\u001b[0m\u001b[0;34m\u001b[0m\u001b[0m\n",
            "\u001b[0;32m/usr/local/lib/python3.6/dist-packages/matplotlib/pyplot.py\u001b[0m in \u001b[0;36mscatter\u001b[0;34m(x, y, s, c, marker, cmap, norm, vmin, vmax, alpha, linewidths, verts, edgecolors, plotnonfinite, data, **kwargs)\u001b[0m\n\u001b[1;32m   2814\u001b[0m         \u001b[0mverts\u001b[0m\u001b[0;34m=\u001b[0m\u001b[0mverts\u001b[0m\u001b[0;34m,\u001b[0m \u001b[0medgecolors\u001b[0m\u001b[0;34m=\u001b[0m\u001b[0medgecolors\u001b[0m\u001b[0;34m,\u001b[0m\u001b[0;34m\u001b[0m\u001b[0;34m\u001b[0m\u001b[0m\n\u001b[1;32m   2815\u001b[0m         plotnonfinite=plotnonfinite, **({\"data\": data} if data is not\n\u001b[0;32m-> 2816\u001b[0;31m         None else {}), **kwargs)\n\u001b[0m\u001b[1;32m   2817\u001b[0m     \u001b[0msci\u001b[0m\u001b[0;34m(\u001b[0m\u001b[0m__ret\u001b[0m\u001b[0;34m)\u001b[0m\u001b[0;34m\u001b[0m\u001b[0;34m\u001b[0m\u001b[0m\n\u001b[1;32m   2818\u001b[0m     \u001b[0;32mreturn\u001b[0m \u001b[0m__ret\u001b[0m\u001b[0;34m\u001b[0m\u001b[0;34m\u001b[0m\u001b[0m\n",
            "\u001b[0;32m/usr/local/lib/python3.6/dist-packages/matplotlib/__init__.py\u001b[0m in \u001b[0;36minner\u001b[0;34m(ax, data, *args, **kwargs)\u001b[0m\n\u001b[1;32m   1563\u001b[0m     \u001b[0;32mdef\u001b[0m \u001b[0minner\u001b[0m\u001b[0;34m(\u001b[0m\u001b[0max\u001b[0m\u001b[0;34m,\u001b[0m \u001b[0;34m*\u001b[0m\u001b[0margs\u001b[0m\u001b[0;34m,\u001b[0m \u001b[0mdata\u001b[0m\u001b[0;34m=\u001b[0m\u001b[0;32mNone\u001b[0m\u001b[0;34m,\u001b[0m \u001b[0;34m**\u001b[0m\u001b[0mkwargs\u001b[0m\u001b[0;34m)\u001b[0m\u001b[0;34m:\u001b[0m\u001b[0;34m\u001b[0m\u001b[0;34m\u001b[0m\u001b[0m\n\u001b[1;32m   1564\u001b[0m         \u001b[0;32mif\u001b[0m \u001b[0mdata\u001b[0m \u001b[0;32mis\u001b[0m \u001b[0;32mNone\u001b[0m\u001b[0;34m:\u001b[0m\u001b[0;34m\u001b[0m\u001b[0;34m\u001b[0m\u001b[0m\n\u001b[0;32m-> 1565\u001b[0;31m             \u001b[0;32mreturn\u001b[0m \u001b[0mfunc\u001b[0m\u001b[0;34m(\u001b[0m\u001b[0max\u001b[0m\u001b[0;34m,\u001b[0m \u001b[0;34m*\u001b[0m\u001b[0mmap\u001b[0m\u001b[0;34m(\u001b[0m\u001b[0msanitize_sequence\u001b[0m\u001b[0;34m,\u001b[0m \u001b[0margs\u001b[0m\u001b[0;34m)\u001b[0m\u001b[0;34m,\u001b[0m \u001b[0;34m**\u001b[0m\u001b[0mkwargs\u001b[0m\u001b[0;34m)\u001b[0m\u001b[0;34m\u001b[0m\u001b[0;34m\u001b[0m\u001b[0m\n\u001b[0m\u001b[1;32m   1566\u001b[0m \u001b[0;34m\u001b[0m\u001b[0m\n\u001b[1;32m   1567\u001b[0m         \u001b[0mbound\u001b[0m \u001b[0;34m=\u001b[0m \u001b[0mnew_sig\u001b[0m\u001b[0;34m.\u001b[0m\u001b[0mbind\u001b[0m\u001b[0;34m(\u001b[0m\u001b[0max\u001b[0m\u001b[0;34m,\u001b[0m \u001b[0;34m*\u001b[0m\u001b[0margs\u001b[0m\u001b[0;34m,\u001b[0m \u001b[0;34m**\u001b[0m\u001b[0mkwargs\u001b[0m\u001b[0;34m)\u001b[0m\u001b[0;34m\u001b[0m\u001b[0;34m\u001b[0m\u001b[0m\n",
            "\u001b[0;32m/usr/local/lib/python3.6/dist-packages/matplotlib/cbook/deprecation.py\u001b[0m in \u001b[0;36mwrapper\u001b[0;34m(*args, **kwargs)\u001b[0m\n\u001b[1;32m    356\u001b[0m                 \u001b[0;34mf\"%(removal)s.  If any parameter follows {name!r}, they \"\u001b[0m\u001b[0;34m\u001b[0m\u001b[0;34m\u001b[0m\u001b[0m\n\u001b[1;32m    357\u001b[0m                 f\"should be pass as keyword, not positionally.\")\n\u001b[0;32m--> 358\u001b[0;31m         \u001b[0;32mreturn\u001b[0m \u001b[0mfunc\u001b[0m\u001b[0;34m(\u001b[0m\u001b[0;34m*\u001b[0m\u001b[0margs\u001b[0m\u001b[0;34m,\u001b[0m \u001b[0;34m**\u001b[0m\u001b[0mkwargs\u001b[0m\u001b[0;34m)\u001b[0m\u001b[0;34m\u001b[0m\u001b[0;34m\u001b[0m\u001b[0m\n\u001b[0m\u001b[1;32m    359\u001b[0m \u001b[0;34m\u001b[0m\u001b[0m\n\u001b[1;32m    360\u001b[0m     \u001b[0;32mreturn\u001b[0m \u001b[0mwrapper\u001b[0m\u001b[0;34m\u001b[0m\u001b[0;34m\u001b[0m\u001b[0m\n",
            "\u001b[0;32m/usr/local/lib/python3.6/dist-packages/matplotlib/axes/_axes.py\u001b[0m in \u001b[0;36mscatter\u001b[0;34m(self, x, y, s, c, marker, cmap, norm, vmin, vmax, alpha, linewidths, verts, edgecolors, plotnonfinite, **kwargs)\u001b[0m\n\u001b[1;32m   4389\u001b[0m         \u001b[0my\u001b[0m \u001b[0;34m=\u001b[0m \u001b[0mnp\u001b[0m\u001b[0;34m.\u001b[0m\u001b[0mma\u001b[0m\u001b[0;34m.\u001b[0m\u001b[0mravel\u001b[0m\u001b[0;34m(\u001b[0m\u001b[0my\u001b[0m\u001b[0;34m)\u001b[0m\u001b[0;34m\u001b[0m\u001b[0;34m\u001b[0m\u001b[0m\n\u001b[1;32m   4390\u001b[0m         \u001b[0;32mif\u001b[0m \u001b[0mx\u001b[0m\u001b[0;34m.\u001b[0m\u001b[0msize\u001b[0m \u001b[0;34m!=\u001b[0m \u001b[0my\u001b[0m\u001b[0;34m.\u001b[0m\u001b[0msize\u001b[0m\u001b[0;34m:\u001b[0m\u001b[0;34m\u001b[0m\u001b[0;34m\u001b[0m\u001b[0m\n\u001b[0;32m-> 4391\u001b[0;31m             \u001b[0;32mraise\u001b[0m \u001b[0mValueError\u001b[0m\u001b[0;34m(\u001b[0m\u001b[0;34m\"x and y must be the same size\"\u001b[0m\u001b[0;34m)\u001b[0m\u001b[0;34m\u001b[0m\u001b[0;34m\u001b[0m\u001b[0m\n\u001b[0m\u001b[1;32m   4392\u001b[0m \u001b[0;34m\u001b[0m\u001b[0m\n\u001b[1;32m   4393\u001b[0m         \u001b[0;32mif\u001b[0m \u001b[0ms\u001b[0m \u001b[0;32mis\u001b[0m \u001b[0;32mNone\u001b[0m\u001b[0;34m:\u001b[0m\u001b[0;34m\u001b[0m\u001b[0;34m\u001b[0m\u001b[0m\n",
            "\u001b[0;31mValueError\u001b[0m: x and y must be the same size"
          ]
        },
        {
          "output_type": "display_data",
          "data": {
            "image/png": "[encoded data removed]",
            "text/plain": [
              "<Figure size 720x360 with 1 Axes>"
            ]
          },
          "metadata": {
            "tags": [],
            "needs_background": "light"
          }
        }
      ]
    }
  ]
}