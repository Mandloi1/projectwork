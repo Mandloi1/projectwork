{
  "nbformat": 4,
  "nbformat_minor": 0,
  "metadata": {
    "colab": {
      "name": "Untitled22.ipynb",
      "provenance": [],
      "collapsed_sections": [],
      "authorship_tag": "ABX9TyO2pE0QJ482O2f+mAO8fah5",
      "include_colab_link": true
    },
    "kernelspec": {
      "name": "python3",
      "display_name": "Python 3"
    }
  },
  "cells": [
    {
      "cell_type": "markdown",
      "metadata": {
        "id": "view-in-github",
        "colab_type": "text"
      },
      "source": [
        "<a href=\"https://colab.research.google.com/github/Mandloi1/projectwork/blob/master/clustering_new.ipynb\" target=\"_parent\"><img src=\"https://colab.research.google.com/assets/colab-badge.svg\" alt=\"Open In Colab\"/></a>"
      ]
    },
    {
      "cell_type": "code",
      "metadata": {
        "id": "ZgrUzv5irfLl",
        "colab_type": "code",
        "colab": {}
      },
      "source": [
        "import pandas as pd\n",
        "import numpy as np\n",
        "import seaborn as sns\n",
        "from matplotlib import pyplot as plt \n",
        "from sklearn.model_selection import train_test_split\n",
        "from sklearn.metrics import mean_absolute_error, accuracy_score, confusion_matrix, classification_report, roc_auc_score\n",
        "from sklearn.preprocessing import StandardScaler\n",
        "from sklearn.cluster import KMeans\n",
        "import matplotlib.pyplot as plt"
      ],
      "execution_count": 95,
      "outputs": []
    },
    {
      "cell_type": "code",
      "metadata": {
        "id": "1LGUG3TbsWss",
        "colab_type": "code",
        "colab": {}
      },
      "source": [
        "data = pd.read_csv('Sample_data.csv')"
      ],
      "execution_count": 96,
      "outputs": []
    },
    {
      "cell_type": "code",
      "metadata": {
        "id": "YffzEjcIuwXK",
        "colab_type": "code",
        "colab": {
          "base_uri": "https://localhost:8080/",
          "height": 34
        },
        "outputId": "b8962203-a684-406b-fdff-7c0988f1d010"
      },
      "source": [
        "data = data.dropna()\n",
        "data.shape"
      ],
      "execution_count": 97,
      "outputs": [
        {
          "output_type": "execute_result",
          "data": {
            "text/plain": [
              "(399, 14)"
            ]
          },
          "metadata": {
            "tags": []
          },
          "execution_count": 97
        }
      ]
    },
    {
      "cell_type": "code",
      "metadata": {
        "id": "348vXOMbu7cc",
        "colab_type": "code",
        "colab": {
          "base_uri": "https://localhost:8080/",
          "height": 419
        },
        "outputId": "9aef7229-72ce-4d8f-908a-2820bc71f3cb"
      },
      "source": [
        "data= data.drop(['PART#', 'DPERP', 'Mg', 'Al', 'Class'], axis = 1)\n",
        "data"
      ],
      "execution_count": 98,
      "outputs": [
        {
          "output_type": "execute_result",
          "data": {
            "text/html": [
              "<div>\n",
              "<style scoped>\n",
              "    .dataframe tbody tr th:only-of-type {\n",
              "        vertical-align: middle;\n",
              "    }\n",
              "\n",
              "    .dataframe tbody tr th {\n",
              "        vertical-align: top;\n",
              "    }\n",
              "\n",
              "    .dataframe thead th {\n",
              "        text-align: right;\n",
              "    }\n",
              "</style>\n",
              "<table border=\"1\" class=\"dataframe\">\n",
              "  <thead>\n",
              "    <tr style=\"text-align: right;\">\n",
              "      <th></th>\n",
              "      <th>X_FERET</th>\n",
              "      <th>Y_FERET</th>\n",
              "      <th>DAVE</th>\n",
              "      <th>DMAX</th>\n",
              "      <th>DMIN</th>\n",
              "      <th>ASPECT</th>\n",
              "      <th>AREA</th>\n",
              "      <th>PERIMETER</th>\n",
              "      <th>Mg/Al</th>\n",
              "    </tr>\n",
              "  </thead>\n",
              "  <tbody>\n",
              "    <tr>\n",
              "      <th>0</th>\n",
              "      <td>2.99990</td>\n",
              "      <td>3.58322</td>\n",
              "      <td>3.29594</td>\n",
              "      <td>3.76466</td>\n",
              "      <td>2.58417</td>\n",
              "      <td>1.45682</td>\n",
              "      <td>6.98565</td>\n",
              "      <td>12.001600</td>\n",
              "      <td>0.325709</td>\n",
              "    </tr>\n",
              "    <tr>\n",
              "      <th>1</th>\n",
              "      <td>2.33326</td>\n",
              "      <td>2.08327</td>\n",
              "      <td>2.27187</td>\n",
              "      <td>2.66788</td>\n",
              "      <td>1.48360</td>\n",
              "      <td>1.79825</td>\n",
              "      <td>2.77760</td>\n",
              "      <td>7.742380</td>\n",
              "      <td>0.375406</td>\n",
              "    </tr>\n",
              "    <tr>\n",
              "      <th>2</th>\n",
              "      <td>7.83308</td>\n",
              "      <td>6.83311</td>\n",
              "      <td>7.25698</td>\n",
              "      <td>7.81399</td>\n",
              "      <td>6.81158</td>\n",
              "      <td>1.14716</td>\n",
              "      <td>34.69220</td>\n",
              "      <td>29.452801</td>\n",
              "      <td>0.392320</td>\n",
              "    </tr>\n",
              "    <tr>\n",
              "      <th>3</th>\n",
              "      <td>1.83327</td>\n",
              "      <td>1.74994</td>\n",
              "      <td>1.73706</td>\n",
              "      <td>1.79886</td>\n",
              "      <td>1.73710</td>\n",
              "      <td>1.03556</td>\n",
              "      <td>2.20124</td>\n",
              "      <td>6.644780</td>\n",
              "      <td>0.329927</td>\n",
              "    </tr>\n",
              "    <tr>\n",
              "      <th>4</th>\n",
              "      <td>7.33309</td>\n",
              "      <td>8.41639</td>\n",
              "      <td>8.39133</td>\n",
              "      <td>8.94592</td>\n",
              "      <td>5.48010</td>\n",
              "      <td>1.63244</td>\n",
              "      <td>35.86570</td>\n",
              "      <td>34.866798</td>\n",
              "      <td>0.335254</td>\n",
              "    </tr>\n",
              "    <tr>\n",
              "      <th>...</th>\n",
              "      <td>...</td>\n",
              "      <td>...</td>\n",
              "      <td>...</td>\n",
              "      <td>...</td>\n",
              "      <td>...</td>\n",
              "      <td>...</td>\n",
              "      <td>...</td>\n",
              "      <td>...</td>\n",
              "      <td>...</td>\n",
              "    </tr>\n",
              "    <tr>\n",
              "      <th>440</th>\n",
              "      <td>2.91657</td>\n",
              "      <td>2.91657</td>\n",
              "      <td>2.88842</td>\n",
              "      <td>3.16766</td>\n",
              "      <td>2.68319</td>\n",
              "      <td>1.18056</td>\n",
              "      <td>6.08988</td>\n",
              "      <td>11.335000</td>\n",
              "      <td>0.353107</td>\n",
              "    </tr>\n",
              "    <tr>\n",
              "      <th>441</th>\n",
              "      <td>1.83327</td>\n",
              "      <td>2.66658</td>\n",
              "      <td>2.35166</td>\n",
              "      <td>2.68991</td>\n",
              "      <td>1.23653</td>\n",
              "      <td>2.17537</td>\n",
              "      <td>2.80537</td>\n",
              "      <td>7.791190</td>\n",
              "      <td>0.350002</td>\n",
              "    </tr>\n",
              "    <tr>\n",
              "      <th>442</th>\n",
              "      <td>1.58328</td>\n",
              "      <td>1.66661</td>\n",
              "      <td>1.61402</td>\n",
              "      <td>1.76771</td>\n",
              "      <td>1.35524</td>\n",
              "      <td>1.30435</td>\n",
              "      <td>1.77766</td>\n",
              "      <td>6.055550</td>\n",
              "      <td>0.322826</td>\n",
              "    </tr>\n",
              "    <tr>\n",
              "      <th>443</th>\n",
              "      <td>3.74988</td>\n",
              "      <td>4.49985</td>\n",
              "      <td>4.23152</td>\n",
              "      <td>4.74472</td>\n",
              "      <td>3.50952</td>\n",
              "      <td>1.35196</td>\n",
              "      <td>12.02000</td>\n",
              "      <td>16.085800</td>\n",
              "      <td>0.358899</td>\n",
              "    </tr>\n",
              "    <tr>\n",
              "      <th>444</th>\n",
              "      <td>2.74991</td>\n",
              "      <td>2.99990</td>\n",
              "      <td>2.97611</td>\n",
              "      <td>3.25416</td>\n",
              "      <td>2.76337</td>\n",
              "      <td>1.17761</td>\n",
              "      <td>6.22876</td>\n",
              "      <td>11.217100</td>\n",
              "      <td>0.372241</td>\n",
              "    </tr>\n",
              "  </tbody>\n",
              "</table>\n",
              "<p>399 rows × 9 columns</p>\n",
              "</div>"
            ],
            "text/plain": [
              "     X_FERET  Y_FERET     DAVE     DMAX  ...   ASPECT      AREA  PERIMETER     Mg/Al\n",
              "0    2.99990  3.58322  3.29594  3.76466  ...  1.45682   6.98565  12.001600  0.325709\n",
              "1    2.33326  2.08327  2.27187  2.66788  ...  1.79825   2.77760   7.742380  0.375406\n",
              "2    7.83308  6.83311  7.25698  7.81399  ...  1.14716  34.69220  29.452801  0.392320\n",
              "3    1.83327  1.74994  1.73706  1.79886  ...  1.03556   2.20124   6.644780  0.329927\n",
              "4    7.33309  8.41639  8.39133  8.94592  ...  1.63244  35.86570  34.866798  0.335254\n",
              "..       ...      ...      ...      ...  ...      ...       ...        ...       ...\n",
              "440  2.91657  2.91657  2.88842  3.16766  ...  1.18056   6.08988  11.335000  0.353107\n",
              "441  1.83327  2.66658  2.35166  2.68991  ...  2.17537   2.80537   7.791190  0.350002\n",
              "442  1.58328  1.66661  1.61402  1.76771  ...  1.30435   1.77766   6.055550  0.322826\n",
              "443  3.74988  4.49985  4.23152  4.74472  ...  1.35196  12.02000  16.085800  0.358899\n",
              "444  2.74991  2.99990  2.97611  3.25416  ...  1.17761   6.22876  11.217100  0.372241\n",
              "\n",
              "[399 rows x 9 columns]"
            ]
          },
          "metadata": {
            "tags": []
          },
          "execution_count": 98
        }
      ]
    },
    {
      "cell_type": "code",
      "metadata": {
        "id": "jMRE9duNvQRH",
        "colab_type": "code",
        "colab": {
          "base_uri": "https://localhost:8080/",
          "height": 297
        },
        "outputId": "64c0a6fa-75e4-42bc-e154-6b35a0dcf64e"
      },
      "source": [
        "X = data\n",
        "X.shape\n",
        "X.describe()"
      ],
      "execution_count": 99,
      "outputs": [
        {
          "output_type": "execute_result",
          "data": {
            "text/html": [
              "<div>\n",
              "<style scoped>\n",
              "    .dataframe tbody tr th:only-of-type {\n",
              "        vertical-align: middle;\n",
              "    }\n",
              "\n",
              "    .dataframe tbody tr th {\n",
              "        vertical-align: top;\n",
              "    }\n",
              "\n",
              "    .dataframe thead th {\n",
              "        text-align: right;\n",
              "    }\n",
              "</style>\n",
              "<table border=\"1\" class=\"dataframe\">\n",
              "  <thead>\n",
              "    <tr style=\"text-align: right;\">\n",
              "      <th></th>\n",
              "      <th>X_FERET</th>\n",
              "      <th>Y_FERET</th>\n",
              "      <th>DAVE</th>\n",
              "      <th>DMAX</th>\n",
              "      <th>DMIN</th>\n",
              "      <th>ASPECT</th>\n",
              "      <th>AREA</th>\n",
              "      <th>PERIMETER</th>\n",
              "      <th>Mg/Al</th>\n",
              "    </tr>\n",
              "  </thead>\n",
              "  <tbody>\n",
              "    <tr>\n",
              "      <th>count</th>\n",
              "      <td>399.000000</td>\n",
              "      <td>399.000000</td>\n",
              "      <td>399.000000</td>\n",
              "      <td>399.000000</td>\n",
              "      <td>399.000000</td>\n",
              "      <td>399.000000</td>\n",
              "      <td>399.000000</td>\n",
              "      <td>399.000000</td>\n",
              "      <td>399.000000</td>\n",
              "    </tr>\n",
              "    <tr>\n",
              "      <th>mean</th>\n",
              "      <td>3.578204</td>\n",
              "      <td>3.659654</td>\n",
              "      <td>3.798562</td>\n",
              "      <td>4.191297</td>\n",
              "      <td>2.825518</td>\n",
              "      <td>1.539793</td>\n",
              "      <td>9.117169</td>\n",
              "      <td>14.351655</td>\n",
              "      <td>0.317890</td>\n",
              "    </tr>\n",
              "    <tr>\n",
              "      <th>std</th>\n",
              "      <td>1.644166</td>\n",
              "      <td>1.543498</td>\n",
              "      <td>1.695209</td>\n",
              "      <td>1.859606</td>\n",
              "      <td>1.203914</td>\n",
              "      <td>0.529300</td>\n",
              "      <td>7.358027</td>\n",
              "      <td>7.091158</td>\n",
              "      <td>0.156374</td>\n",
              "    </tr>\n",
              "    <tr>\n",
              "      <th>min</th>\n",
              "      <td>1.249960</td>\n",
              "      <td>1.249960</td>\n",
              "      <td>1.274790</td>\n",
              "      <td>1.455310</td>\n",
              "      <td>0.668402</td>\n",
              "      <td>1.006800</td>\n",
              "      <td>1.034650</td>\n",
              "      <td>5.132990</td>\n",
              "      <td>0.000000</td>\n",
              "    </tr>\n",
              "    <tr>\n",
              "      <th>25%</th>\n",
              "      <td>2.333260</td>\n",
              "      <td>2.583250</td>\n",
              "      <td>2.524820</td>\n",
              "      <td>2.810465</td>\n",
              "      <td>1.941965</td>\n",
              "      <td>1.203215</td>\n",
              "      <td>3.885165</td>\n",
              "      <td>9.304715</td>\n",
              "      <td>0.313304</td>\n",
              "    </tr>\n",
              "    <tr>\n",
              "      <th>50%</th>\n",
              "      <td>3.166560</td>\n",
              "      <td>3.333220</td>\n",
              "      <td>3.388900</td>\n",
              "      <td>3.731310</td>\n",
              "      <td>2.612960</td>\n",
              "      <td>1.368420</td>\n",
              "      <td>6.700950</td>\n",
              "      <td>12.542000</td>\n",
              "      <td>0.347234</td>\n",
              "    </tr>\n",
              "    <tr>\n",
              "      <th>75%</th>\n",
              "      <td>4.333190</td>\n",
              "      <td>4.333190</td>\n",
              "      <td>4.593020</td>\n",
              "      <td>5.005735</td>\n",
              "      <td>3.432875</td>\n",
              "      <td>1.700440</td>\n",
              "      <td>12.127650</td>\n",
              "      <td>17.307200</td>\n",
              "      <td>0.367576</td>\n",
              "    </tr>\n",
              "    <tr>\n",
              "      <th>max</th>\n",
              "      <td>10.666300</td>\n",
              "      <td>9.916340</td>\n",
              "      <td>9.999340</td>\n",
              "      <td>11.090000</td>\n",
              "      <td>9.951870</td>\n",
              "      <td>4.599440</td>\n",
              "      <td>57.927700</td>\n",
              "      <td>56.181301</td>\n",
              "      <td>2.022765</td>\n",
              "    </tr>\n",
              "  </tbody>\n",
              "</table>\n",
              "</div>"
            ],
            "text/plain": [
              "          X_FERET     Y_FERET        DAVE  ...        AREA   PERIMETER       Mg/Al\n",
              "count  399.000000  399.000000  399.000000  ...  399.000000  399.000000  399.000000\n",
              "mean     3.578204    3.659654    3.798562  ...    9.117169   14.351655    0.317890\n",
              "std      1.644166    1.543498    1.695209  ...    7.358027    7.091158    0.156374\n",
              "min      1.249960    1.249960    1.274790  ...    1.034650    5.132990    0.000000\n",
              "25%      2.333260    2.583250    2.524820  ...    3.885165    9.304715    0.313304\n",
              "50%      3.166560    3.333220    3.388900  ...    6.700950   12.542000    0.347234\n",
              "75%      4.333190    4.333190    4.593020  ...   12.127650   17.307200    0.367576\n",
              "max     10.666300    9.916340    9.999340  ...   57.927700   56.181301    2.022765\n",
              "\n",
              "[8 rows x 9 columns]"
            ]
          },
          "metadata": {
            "tags": []
          },
          "execution_count": 99
        }
      ]
    },
    {
      "cell_type": "code",
      "metadata": {
        "id": "6_pKr2cmqnU8",
        "colab_type": "code",
        "colab": {
          "base_uri": "https://localhost:8080/",
          "height": 170
        },
        "outputId": "d62f43fe-49e4-4829-d969-8161a13b3c94"
      },
      "source": [
        "from sklearn import preprocessing \n",
        "min_max_scaler = preprocessing.MinMaxScaler(feature_range =(0, 1)) \n",
        "x_after_min_max_scaler = min_max_scaler.fit_transform(X) \n",
        "print (\"\\nAfter min max Scaling : \\n\", x_after_min_max_scaler)"
      ],
      "execution_count": 100,
      "outputs": [
        {
          "output_type": "stream",
          "text": [
            "\n",
            "After min max Scaling : \n",
            " [[0.1858408  0.26923122 0.23166236 ... 0.10459977 0.13455118 0.16102189]\n",
            " [0.11504471 0.09615435 0.11428439 ... 0.03063555 0.05111609 0.18559047]\n",
            " [0.69911664 0.64423092 0.68567317 ... 0.59159334 0.47640775 0.19395246]\n",
            " ...\n",
            " [0.03539804 0.0480766  0.03888223 ... 0.01305977 0.0180723  0.15959653]\n",
            " [0.26548746 0.3749997  0.33889772 ... 0.19308774 0.21455774 0.17743001]\n",
            " [0.15929227 0.20192285 0.19500375 ... 0.09129603 0.11918338 0.18402583]]\n"
          ],
          "name": "stdout"
        }
      ]
    },
    {
      "cell_type": "code",
      "metadata": {
        "id": "_Uipw34yzfTy",
        "colab_type": "code",
        "colab": {}
      },
      "source": [
        "# Using the elbow method to find the optimal number of clusters\n",
        "from sklearn.cluster import KMeans\n",
        "wcss = []\n",
        "for i in range(1, 11):\n",
        "    kmeans = KMeans(n_clusters = i, init = 'k-means++', random_state = 42)\n",
        "    kmeans.fit(X)\n",
        "    # inertia method returns wcss for that model\n",
        "    wcss.append(kmeans.inertia_)"
      ],
      "execution_count": 101,
      "outputs": []
    },
    {
      "cell_type": "code",
      "metadata": {
        "id": "utARii4SzuRw",
        "colab_type": "code",
        "colab": {
          "base_uri": "https://localhost:8080/",
          "height": 350
        },
        "outputId": "b86e34fc-ac87-4ab7-95b7-d2889e22f9e6"
      },
      "source": [
        "plt.figure(figsize=(10,5))\n",
        "sns.lineplot(range(1, 11), wcss,marker='o',color='red')\n",
        "plt.title('The Elbow Method')\n",
        "plt.xlabel('Number of clusters')\n",
        "plt.ylabel('WCSS')\n",
        "plt.show()"
      ],
      "execution_count": 102,
      "outputs": [
        {
          "output_type": "display_data",
          "data": {
            "image/png": "[encoded data removed]",
            "text/plain": [
              "<Figure size 720x360 with 1 Axes>"
            ]
          },
          "metadata": {
            "tags": [],
            "needs_background": "light"
          }
        }
      ]
    },
    {
      "cell_type": "code",
      "metadata": {
        "id": "jYMb2Oo8k2RW",
        "colab_type": "code",
        "colab": {
          "base_uri": "https://localhost:8080/",
          "height": 265
        },
        "outputId": "3b7d51ef-d0c7-452c-d4fe-69fb77556a4b"
      },
      "source": [
        "from sklearn.decomposition import PCA\n",
        "from sklearn.cluster import KMeans\n",
        "import pylab as pl\n",
        "pca = PCA(n_components=2).fit(X)\n",
        "pca_2d = pca.transform(X)\n",
        "#pl.figure('Reference Plot')\n",
        "#pl.scatter(pca_2d[:, 0], pca_2d[:, 1], c='black')\n",
        "kmeans = KMeans(n_clusters=2, random_state=111)\n",
        "kmeans.fit(X)\n",
        "pl.figure('K-means with 2 clusters')\n",
        "pl.scatter(pca_2d[:, 0], pca_2d[:, 1], c=kmeans.labels_)\n",
        "#pl.scatter(kmeans.cluster_centers_[:, 0], kmeans.cluster_centers_[:, 1], s=200, c='red')\n",
        "pl.show()"
      ],
      "execution_count": 107,
      "outputs": [
        {
          "output_type": "display_data",
          "data": {
            "image/png": "[encoded data removed]",
            "text/plain": [
              "<Figure size 432x288 with 1 Axes>"
            ]
          },
          "metadata": {
            "tags": [],
            "needs_background": "light"
          }
        }
      ]
    }
  ]
}