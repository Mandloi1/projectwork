{
  "nbformat": 4,
  "nbformat_minor": 0,
  "metadata": {
    "colab": {
      "name": "Classifier.ipynb",
      "provenance": [],
      "collapsed_sections": [],
      "authorship_tag": "ABX9TyOix4ZrH3GCAUtSg1HN3BIw",
      "include_colab_link": true
    },
    "kernelspec": {
      "name": "python3",
      "display_name": "Python 3"
    }
  },
  "cells": [
    {
      "cell_type": "markdown",
      "metadata": {
        "id": "view-in-github",
        "colab_type": "text"
      },
      "source": [
        "<a href=\"https://colab.research.google.com/github/Mandloi1/projectwork/blob/master/Classifier.ipynb\" target=\"_parent\"><img src=\"https://colab.research.google.com/assets/colab-badge.svg\" alt=\"Open In Colab\"/></a>"
      ]
    },
    {
      "cell_type": "code",
      "metadata": {
        "id": "0MQNblDif71Y",
        "colab_type": "code",
        "colab": {}
      },
      "source": [
        "import pandas as pd\n",
        "import numpy as np\n",
        "import seaborn as sns\n",
        "from matplotlib import pyplot as plt \n",
        "from sklearn.model_selection import train_test_split\n",
        "from sklearn.metrics import mean_absolute_error, accuracy_score, confusion_matrix, classification_report, roc_auc_score\n",
        "from sklearn.preprocessing import StandardScaler"
      ],
      "execution_count": null,
      "outputs": []
    },
    {
      "cell_type": "code",
      "metadata": {
        "id": "09k7_IJDhdEm",
        "colab_type": "code",
        "colab": {
          "base_uri": "https://localhost:8080/",
          "height": 439
        },
        "outputId": "ecd5bacc-70d0-4858-ffa8-5f82c53569d6"
      },
      "source": [
        "data = pd.read_csv('Sample_data.csv')\n",
        "data"
      ],
      "execution_count": null,
      "outputs": [
        {
          "output_type": "execute_result",
          "data": {
            "text/html": [
              "<div>\n",
              "<style scoped>\n",
              "    .dataframe tbody tr th:only-of-type {\n",
              "        vertical-align: middle;\n",
              "    }\n",
              "\n",
              "    .dataframe tbody tr th {\n",
              "        vertical-align: top;\n",
              "    }\n",
              "\n",
              "    .dataframe thead th {\n",
              "        text-align: right;\n",
              "    }\n",
              "</style>\n",
              "<table border=\"1\" class=\"dataframe\">\n",
              "  <thead>\n",
              "    <tr style=\"text-align: right;\">\n",
              "      <th></th>\n",
              "      <th>PART#</th>\n",
              "      <th>X_FERET</th>\n",
              "      <th>Y_FERET</th>\n",
              "      <th>DAVE</th>\n",
              "      <th>DMAX</th>\n",
              "      <th>DMIN</th>\n",
              "      <th>DPERP</th>\n",
              "      <th>ASPECT</th>\n",
              "      <th>AREA</th>\n",
              "      <th>PERIMETER</th>\n",
              "      <th>Mg</th>\n",
              "      <th>Al</th>\n",
              "      <th>Mg/Al</th>\n",
              "      <th>Class</th>\n",
              "    </tr>\n",
              "  </thead>\n",
              "  <tbody>\n",
              "    <tr>\n",
              "      <th>0</th>\n",
              "      <td>1</td>\n",
              "      <td>2.99990</td>\n",
              "      <td>3.58322</td>\n",
              "      <td>3.29594</td>\n",
              "      <td>3.76466</td>\n",
              "      <td>2.58417</td>\n",
              "      <td>2.58417</td>\n",
              "      <td>1.45682</td>\n",
              "      <td>6.98565</td>\n",
              "      <td>12.001600</td>\n",
              "      <td>0.020279</td>\n",
              "      <td>0.062260</td>\n",
              "      <td>0.325709</td>\n",
              "      <td>0.0</td>\n",
              "    </tr>\n",
              "    <tr>\n",
              "      <th>1</th>\n",
              "      <td>2</td>\n",
              "      <td>2.33326</td>\n",
              "      <td>2.08327</td>\n",
              "      <td>2.27187</td>\n",
              "      <td>2.66788</td>\n",
              "      <td>1.48360</td>\n",
              "      <td>1.48360</td>\n",
              "      <td>1.79825</td>\n",
              "      <td>2.77760</td>\n",
              "      <td>7.742380</td>\n",
              "      <td>0.020724</td>\n",
              "      <td>0.055203</td>\n",
              "      <td>0.375406</td>\n",
              "      <td>0.0</td>\n",
              "    </tr>\n",
              "    <tr>\n",
              "      <th>2</th>\n",
              "      <td>3</td>\n",
              "      <td>7.83308</td>\n",
              "      <td>6.83311</td>\n",
              "      <td>7.25698</td>\n",
              "      <td>7.81399</td>\n",
              "      <td>6.81158</td>\n",
              "      <td>6.81158</td>\n",
              "      <td>1.14716</td>\n",
              "      <td>34.69220</td>\n",
              "      <td>29.452801</td>\n",
              "      <td>0.021017</td>\n",
              "      <td>0.053570</td>\n",
              "      <td>0.392320</td>\n",
              "      <td>0.0</td>\n",
              "    </tr>\n",
              "    <tr>\n",
              "      <th>3</th>\n",
              "      <td>4</td>\n",
              "      <td>1.83327</td>\n",
              "      <td>1.74994</td>\n",
              "      <td>1.73706</td>\n",
              "      <td>1.79886</td>\n",
              "      <td>1.73710</td>\n",
              "      <td>1.73710</td>\n",
              "      <td>1.03556</td>\n",
              "      <td>2.20124</td>\n",
              "      <td>6.644780</td>\n",
              "      <td>0.020140</td>\n",
              "      <td>0.061045</td>\n",
              "      <td>0.329927</td>\n",
              "      <td>0.0</td>\n",
              "    </tr>\n",
              "    <tr>\n",
              "      <th>4</th>\n",
              "      <td>5</td>\n",
              "      <td>7.33309</td>\n",
              "      <td>8.41639</td>\n",
              "      <td>8.39133</td>\n",
              "      <td>8.94592</td>\n",
              "      <td>5.48010</td>\n",
              "      <td>6.61726</td>\n",
              "      <td>1.63244</td>\n",
              "      <td>35.86570</td>\n",
              "      <td>34.866798</td>\n",
              "      <td>0.020244</td>\n",
              "      <td>0.060383</td>\n",
              "      <td>0.335254</td>\n",
              "      <td>0.0</td>\n",
              "    </tr>\n",
              "    <tr>\n",
              "      <th>...</th>\n",
              "      <td>...</td>\n",
              "      <td>...</td>\n",
              "      <td>...</td>\n",
              "      <td>...</td>\n",
              "      <td>...</td>\n",
              "      <td>...</td>\n",
              "      <td>...</td>\n",
              "      <td>...</td>\n",
              "      <td>...</td>\n",
              "      <td>...</td>\n",
              "      <td>...</td>\n",
              "      <td>...</td>\n",
              "      <td>...</td>\n",
              "      <td>...</td>\n",
              "    </tr>\n",
              "    <tr>\n",
              "      <th>440</th>\n",
              "      <td>460</td>\n",
              "      <td>2.91657</td>\n",
              "      <td>2.91657</td>\n",
              "      <td>2.88842</td>\n",
              "      <td>3.16766</td>\n",
              "      <td>2.68319</td>\n",
              "      <td>2.68319</td>\n",
              "      <td>1.18056</td>\n",
              "      <td>6.08988</td>\n",
              "      <td>11.335000</td>\n",
              "      <td>0.020551</td>\n",
              "      <td>0.058200</td>\n",
              "      <td>0.353107</td>\n",
              "      <td>0.0</td>\n",
              "    </tr>\n",
              "    <tr>\n",
              "      <th>441</th>\n",
              "      <td>461</td>\n",
              "      <td>1.83327</td>\n",
              "      <td>2.66658</td>\n",
              "      <td>2.35166</td>\n",
              "      <td>2.68991</td>\n",
              "      <td>1.23653</td>\n",
              "      <td>1.49468</td>\n",
              "      <td>2.17537</td>\n",
              "      <td>2.80537</td>\n",
              "      <td>7.791190</td>\n",
              "      <td>0.020426</td>\n",
              "      <td>0.058358</td>\n",
              "      <td>0.350002</td>\n",
              "      <td>0.0</td>\n",
              "    </tr>\n",
              "    <tr>\n",
              "      <th>442</th>\n",
              "      <td>462</td>\n",
              "      <td>1.58328</td>\n",
              "      <td>1.66661</td>\n",
              "      <td>1.61402</td>\n",
              "      <td>1.76771</td>\n",
              "      <td>1.35524</td>\n",
              "      <td>1.35524</td>\n",
              "      <td>1.30435</td>\n",
              "      <td>1.77766</td>\n",
              "      <td>6.055550</td>\n",
              "      <td>0.019970</td>\n",
              "      <td>0.061858</td>\n",
              "      <td>0.322826</td>\n",
              "      <td>0.0</td>\n",
              "    </tr>\n",
              "    <tr>\n",
              "      <th>443</th>\n",
              "      <td>463</td>\n",
              "      <td>3.74988</td>\n",
              "      <td>4.49985</td>\n",
              "      <td>4.23152</td>\n",
              "      <td>4.74472</td>\n",
              "      <td>3.50952</td>\n",
              "      <td>3.50952</td>\n",
              "      <td>1.35196</td>\n",
              "      <td>12.02000</td>\n",
              "      <td>16.085800</td>\n",
              "      <td>0.020689</td>\n",
              "      <td>0.057645</td>\n",
              "      <td>0.358899</td>\n",
              "      <td>0.0</td>\n",
              "    </tr>\n",
              "    <tr>\n",
              "      <th>444</th>\n",
              "      <td>464</td>\n",
              "      <td>2.74991</td>\n",
              "      <td>2.99990</td>\n",
              "      <td>2.97611</td>\n",
              "      <td>3.25416</td>\n",
              "      <td>2.76337</td>\n",
              "      <td>2.76337</td>\n",
              "      <td>1.17761</td>\n",
              "      <td>6.22876</td>\n",
              "      <td>11.217100</td>\n",
              "      <td>0.020843</td>\n",
              "      <td>0.055993</td>\n",
              "      <td>0.372241</td>\n",
              "      <td>0.0</td>\n",
              "    </tr>\n",
              "  </tbody>\n",
              "</table>\n",
              "<p>445 rows × 14 columns</p>\n",
              "</div>"
            ],
            "text/plain": [
              "     PART#  X_FERET  Y_FERET     DAVE  ...        Mg        Al     Mg/Al  Class\n",
              "0        1  2.99990  3.58322  3.29594  ...  0.020279  0.062260  0.325709    0.0\n",
              "1        2  2.33326  2.08327  2.27187  ...  0.020724  0.055203  0.375406    0.0\n",
              "2        3  7.83308  6.83311  7.25698  ...  0.021017  0.053570  0.392320    0.0\n",
              "3        4  1.83327  1.74994  1.73706  ...  0.020140  0.061045  0.329927    0.0\n",
              "4        5  7.33309  8.41639  8.39133  ...  0.020244  0.060383  0.335254    0.0\n",
              "..     ...      ...      ...      ...  ...       ...       ...       ...    ...\n",
              "440    460  2.91657  2.91657  2.88842  ...  0.020551  0.058200  0.353107    0.0\n",
              "441    461  1.83327  2.66658  2.35166  ...  0.020426  0.058358  0.350002    0.0\n",
              "442    462  1.58328  1.66661  1.61402  ...  0.019970  0.061858  0.322826    0.0\n",
              "443    463  3.74988  4.49985  4.23152  ...  0.020689  0.057645  0.358899    0.0\n",
              "444    464  2.74991  2.99990  2.97611  ...  0.020843  0.055993  0.372241    0.0\n",
              "\n",
              "[445 rows x 14 columns]"
            ]
          },
          "metadata": {
            "tags": []
          },
          "execution_count": 67
        }
      ]
    },
    {
      "cell_type": "code",
      "metadata": {
        "id": "GWeN8kTrh-vH",
        "colab_type": "code",
        "colab": {
          "base_uri": "https://localhost:8080/",
          "height": 317
        },
        "outputId": "d3b6128d-9623-44dc-cc1c-f5922dc876e0"
      },
      "source": [
        "data.describe()"
      ],
      "execution_count": null,
      "outputs": [
        {
          "output_type": "execute_result",
          "data": {
            "text/html": [
              "<div>\n",
              "<style scoped>\n",
              "    .dataframe tbody tr th:only-of-type {\n",
              "        vertical-align: middle;\n",
              "    }\n",
              "\n",
              "    .dataframe tbody tr th {\n",
              "        vertical-align: top;\n",
              "    }\n",
              "\n",
              "    .dataframe thead th {\n",
              "        text-align: right;\n",
              "    }\n",
              "</style>\n",
              "<table border=\"1\" class=\"dataframe\">\n",
              "  <thead>\n",
              "    <tr style=\"text-align: right;\">\n",
              "      <th></th>\n",
              "      <th>PART#</th>\n",
              "      <th>X_FERET</th>\n",
              "      <th>Y_FERET</th>\n",
              "      <th>DAVE</th>\n",
              "      <th>DMAX</th>\n",
              "      <th>DMIN</th>\n",
              "      <th>DPERP</th>\n",
              "      <th>ASPECT</th>\n",
              "      <th>AREA</th>\n",
              "      <th>PERIMETER</th>\n",
              "      <th>Mg</th>\n",
              "      <th>Al</th>\n",
              "      <th>Mg/Al</th>\n",
              "      <th>Class</th>\n",
              "    </tr>\n",
              "  </thead>\n",
              "  <tbody>\n",
              "    <tr>\n",
              "      <th>count</th>\n",
              "      <td>445.000000</td>\n",
              "      <td>445.000000</td>\n",
              "      <td>445.00000</td>\n",
              "      <td>445.000000</td>\n",
              "      <td>445.000000</td>\n",
              "      <td>445.000000</td>\n",
              "      <td>445.000000</td>\n",
              "      <td>445.000000</td>\n",
              "      <td>445.000000</td>\n",
              "      <td>445.000000</td>\n",
              "      <td>399.000000</td>\n",
              "      <td>399.000000</td>\n",
              "      <td>399.000000</td>\n",
              "      <td>399.000000</td>\n",
              "    </tr>\n",
              "    <tr>\n",
              "      <th>mean</th>\n",
              "      <td>233.368539</td>\n",
              "      <td>3.814482</td>\n",
              "      <td>3.84744</td>\n",
              "      <td>4.042531</td>\n",
              "      <td>4.453338</td>\n",
              "      <td>3.006950</td>\n",
              "      <td>3.049864</td>\n",
              "      <td>1.547912</td>\n",
              "      <td>10.721819</td>\n",
              "      <td>15.625505</td>\n",
              "      <td>0.018165</td>\n",
              "      <td>0.065409</td>\n",
              "      <td>0.317890</td>\n",
              "      <td>0.112782</td>\n",
              "    </tr>\n",
              "    <tr>\n",
              "      <th>std</th>\n",
              "      <td>134.423708</td>\n",
              "      <td>2.174945</td>\n",
              "      <td>1.93912</td>\n",
              "      <td>2.182365</td>\n",
              "      <td>2.393232</td>\n",
              "      <td>1.666569</td>\n",
              "      <td>1.665404</td>\n",
              "      <td>0.563177</td>\n",
              "      <td>15.642454</td>\n",
              "      <td>10.176547</td>\n",
              "      <td>0.005677</td>\n",
              "      <td>0.035771</td>\n",
              "      <td>0.156374</td>\n",
              "      <td>0.316723</td>\n",
              "    </tr>\n",
              "    <tr>\n",
              "      <th>min</th>\n",
              "      <td>1.000000</td>\n",
              "      <td>1.249960</td>\n",
              "      <td>1.24996</td>\n",
              "      <td>1.274790</td>\n",
              "      <td>1.455310</td>\n",
              "      <td>0.668402</td>\n",
              "      <td>0.668402</td>\n",
              "      <td>1.006800</td>\n",
              "      <td>1.034650</td>\n",
              "      <td>5.132990</td>\n",
              "      <td>0.000000</td>\n",
              "      <td>0.004882</td>\n",
              "      <td>0.000000</td>\n",
              "      <td>0.000000</td>\n",
              "    </tr>\n",
              "    <tr>\n",
              "      <th>25%</th>\n",
              "      <td>118.000000</td>\n",
              "      <td>2.333260</td>\n",
              "      <td>2.58325</td>\n",
              "      <td>2.624190</td>\n",
              "      <td>2.892660</td>\n",
              "      <td>1.976360</td>\n",
              "      <td>2.016900</td>\n",
              "      <td>1.200000</td>\n",
              "      <td>3.958070</td>\n",
              "      <td>9.774370</td>\n",
              "      <td>0.019746</td>\n",
              "      <td>0.055792</td>\n",
              "      <td>0.313304</td>\n",
              "      <td>0.000000</td>\n",
              "    </tr>\n",
              "    <tr>\n",
              "      <th>50%</th>\n",
              "      <td>232.000000</td>\n",
              "      <td>3.333220</td>\n",
              "      <td>3.41655</td>\n",
              "      <td>3.527210</td>\n",
              "      <td>3.836830</td>\n",
              "      <td>2.732950</td>\n",
              "      <td>2.751280</td>\n",
              "      <td>1.368420</td>\n",
              "      <td>6.867610</td>\n",
              "      <td>13.005100</td>\n",
              "      <td>0.020426</td>\n",
              "      <td>0.058401</td>\n",
              "      <td>0.347234</td>\n",
              "      <td>0.000000</td>\n",
              "    </tr>\n",
              "    <tr>\n",
              "      <th>75%</th>\n",
              "      <td>350.000000</td>\n",
              "      <td>4.499850</td>\n",
              "      <td>4.41652</td>\n",
              "      <td>4.726760</td>\n",
              "      <td>5.324040</td>\n",
              "      <td>3.597610</td>\n",
              "      <td>3.725560</td>\n",
              "      <td>1.695230</td>\n",
              "      <td>13.311600</td>\n",
              "      <td>18.488100</td>\n",
              "      <td>0.020730</td>\n",
              "      <td>0.062511</td>\n",
              "      <td>0.367576</td>\n",
              "      <td>0.000000</td>\n",
              "    </tr>\n",
              "    <tr>\n",
              "      <th>max</th>\n",
              "      <td>464.000000</td>\n",
              "      <td>19.832701</td>\n",
              "      <td>16.83280</td>\n",
              "      <td>18.147800</td>\n",
              "      <td>19.767500</td>\n",
              "      <td>16.858801</td>\n",
              "      <td>16.858801</td>\n",
              "      <td>5.076360</td>\n",
              "      <td>218.263000</td>\n",
              "      <td>118.197998</td>\n",
              "      <td>0.021350</td>\n",
              "      <td>0.263996</td>\n",
              "      <td>2.022765</td>\n",
              "      <td>1.000000</td>\n",
              "    </tr>\n",
              "  </tbody>\n",
              "</table>\n",
              "</div>"
            ],
            "text/plain": [
              "            PART#     X_FERET    Y_FERET  ...          Al       Mg/Al       Class\n",
              "count  445.000000  445.000000  445.00000  ...  399.000000  399.000000  399.000000\n",
              "mean   233.368539    3.814482    3.84744  ...    0.065409    0.317890    0.112782\n",
              "std    134.423708    2.174945    1.93912  ...    0.035771    0.156374    0.316723\n",
              "min      1.000000    1.249960    1.24996  ...    0.004882    0.000000    0.000000\n",
              "25%    118.000000    2.333260    2.58325  ...    0.055792    0.313304    0.000000\n",
              "50%    232.000000    3.333220    3.41655  ...    0.058401    0.347234    0.000000\n",
              "75%    350.000000    4.499850    4.41652  ...    0.062511    0.367576    0.000000\n",
              "max    464.000000   19.832701   16.83280  ...    0.263996    2.022765    1.000000\n",
              "\n",
              "[8 rows x 14 columns]"
            ]
          },
          "metadata": {
            "tags": []
          },
          "execution_count": 68
        }
      ]
    },
    {
      "cell_type": "code",
      "metadata": {
        "id": "wY-9CkN3i3og",
        "colab_type": "code",
        "colab": {
          "base_uri": "https://localhost:8080/",
          "height": 34
        },
        "outputId": "0fbbd0f7-0e98-4048-9492-862933a1382e"
      },
      "source": [
        "data.shape"
      ],
      "execution_count": null,
      "outputs": [
        {
          "output_type": "execute_result",
          "data": {
            "text/plain": [
              "(445, 14)"
            ]
          },
          "metadata": {
            "tags": []
          },
          "execution_count": 69
        }
      ]
    },
    {
      "cell_type": "code",
      "metadata": {
        "id": "RMMLvhkRjgWf",
        "colab_type": "code",
        "colab": {
          "base_uri": "https://localhost:8080/",
          "height": 272
        },
        "outputId": "dc4a2edd-ff78-467d-e802-e552402bc062"
      },
      "source": [
        "data.isna().sum()"
      ],
      "execution_count": null,
      "outputs": [
        {
          "output_type": "execute_result",
          "data": {
            "text/plain": [
              "PART#         0\n",
              "X_FERET       0\n",
              "Y_FERET       0\n",
              "DAVE          0\n",
              "DMAX          0\n",
              "DMIN          0\n",
              "DPERP         0\n",
              "ASPECT        0\n",
              "AREA          0\n",
              "PERIMETER     0\n",
              "Mg           46\n",
              "Al           46\n",
              "Mg/Al        46\n",
              "Class        46\n",
              "dtype: int64"
            ]
          },
          "metadata": {
            "tags": []
          },
          "execution_count": 70
        }
      ]
    },
    {
      "cell_type": "code",
      "metadata": {
        "id": "Leq20huIj4KP",
        "colab_type": "code",
        "colab": {
          "base_uri": "https://localhost:8080/",
          "height": 34
        },
        "outputId": "009687ad-1953-49a5-e531-3a71cee286b2"
      },
      "source": [
        "data = data.dropna()\n",
        "data.shape"
      ],
      "execution_count": null,
      "outputs": [
        {
          "output_type": "execute_result",
          "data": {
            "text/plain": [
              "(399, 14)"
            ]
          },
          "metadata": {
            "tags": []
          },
          "execution_count": 71
        }
      ]
    },
    {
      "cell_type": "code",
      "metadata": {
        "id": "U2lHDLxckPK-",
        "colab_type": "code",
        "colab": {
          "base_uri": "https://localhost:8080/",
          "height": 272
        },
        "outputId": "3e51aa2d-a468-4153-cf86-74800f3c5a97"
      },
      "source": [
        "print(data.isna().sum())"
      ],
      "execution_count": null,
      "outputs": [
        {
          "output_type": "stream",
          "text": [
            "PART#        0\n",
            "X_FERET      0\n",
            "Y_FERET      0\n",
            "DAVE         0\n",
            "DMAX         0\n",
            "DMIN         0\n",
            "DPERP        0\n",
            "ASPECT       0\n",
            "AREA         0\n",
            "PERIMETER    0\n",
            "Mg           0\n",
            "Al           0\n",
            "Mg/Al        0\n",
            "Class        0\n",
            "dtype: int64\n"
          ],
          "name": "stdout"
        }
      ]
    },
    {
      "cell_type": "code",
      "metadata": {
        "id": "5dG_LCs7tJpm",
        "colab_type": "code",
        "colab": {}
      },
      "source": [
        "data= data.drop(['PART#', 'DPERP', 'Mg', 'Al', 'Mg/Al'], axis = 1)"
      ],
      "execution_count": null,
      "outputs": []
    },
    {
      "cell_type": "code",
      "metadata": {
        "id": "4RDwAzJooEfK",
        "colab_type": "code",
        "colab": {
          "base_uri": "https://localhost:8080/",
          "height": 804
        },
        "outputId": "680e1eba-6710-4b2e-8725-7577ee426db5"
      },
      "source": [
        "data.hist(figsize=(20,20))"
      ],
      "execution_count": null,
      "outputs": [
        {
          "output_type": "execute_result",
          "data": {
            "text/plain": [
              "array([[<matplotlib.axes._subplots.AxesSubplot object at 0x7f7fdb4cc7b8>,\n",
              "        <matplotlib.axes._subplots.AxesSubplot object at 0x7f7fd7c4e438>,\n",
              "        <matplotlib.axes._subplots.AxesSubplot object at 0x7f7fd79c26a0>],\n",
              "       [<matplotlib.axes._subplots.AxesSubplot object at 0x7f7fd7ab3908>,\n",
              "        <matplotlib.axes._subplots.AxesSubplot object at 0x7f7fda49ab70>,\n",
              "        <matplotlib.axes._subplots.AxesSubplot object at 0x7f7fd7c06dd8>],\n",
              "       [<matplotlib.axes._subplots.AxesSubplot object at 0x7f7fd7b40048>,\n",
              "        <matplotlib.axes._subplots.AxesSubplot object at 0x7f7fd7be22b0>,\n",
              "        <matplotlib.axes._subplots.AxesSubplot object at 0x7f7fd7be2320>]],\n",
              "      dtype=object)"
            ]
          },
          "metadata": {
            "tags": []
          },
          "execution_count": 74
        },
        {
          "output_type": "display_data",
          "data": {
            "image/png": "[encoded data removed]",
            "text/plain": [
              "<Figure size 1440x1440 with 9 Axes>"
            ]
          },
          "metadata": {
            "tags": [],
            "needs_background": "light"
          }
        }
      ]
    },
    {
      "cell_type": "code",
      "metadata": {
        "id": "eYCrmnz5o630",
        "colab_type": "code",
        "colab": {
          "base_uri": "https://localhost:8080/",
          "height": 289
        },
        "outputId": "b381c698-1921-4f7e-f89c-d9eb4a55cea2"
      },
      "source": [
        "data.info()"
      ],
      "execution_count": null,
      "outputs": [
        {
          "output_type": "stream",
          "text": [
            "<class 'pandas.core.frame.DataFrame'>\n",
            "Int64Index: 399 entries, 0 to 444\n",
            "Data columns (total 9 columns):\n",
            " #   Column     Non-Null Count  Dtype  \n",
            "---  ------     --------------  -----  \n",
            " 0   X_FERET    399 non-null    float64\n",
            " 1   Y_FERET    399 non-null    float64\n",
            " 2   DAVE       399 non-null    float64\n",
            " 3   DMAX       399 non-null    float64\n",
            " 4   DMIN       399 non-null    float64\n",
            " 5   ASPECT     399 non-null    float64\n",
            " 6   AREA       399 non-null    float64\n",
            " 7   PERIMETER  399 non-null    float64\n",
            " 8   Class      399 non-null    float64\n",
            "dtypes: float64(9)\n",
            "memory usage: 31.2 KB\n"
          ],
          "name": "stdout"
        }
      ]
    },
    {
      "cell_type": "code",
      "metadata": {
        "id": "QfGQnq47pHsN",
        "colab_type": "code",
        "colab": {
          "base_uri": "https://localhost:8080/",
          "height": 330
        },
        "outputId": "72f8d3c6-3b30-4a9a-bb05-f20fff1dfbc6"
      },
      "source": [
        "print(data.Class.value_counts())\n",
        "sns.countplot(data['Class'], palette='Set1')\n",
        "plt.show()"
      ],
      "execution_count": null,
      "outputs": [
        {
          "output_type": "stream",
          "text": [
            "0.0    354\n",
            "1.0     45\n",
            "Name: Class, dtype: int64\n"
          ],
          "name": "stdout"
        },
        {
          "output_type": "display_data",
          "data": {
            "image/png": "[encoded data removed]",
            "text/plain": [
              "<Figure size 432x288 with 1 Axes>"
            ]
          },
          "metadata": {
            "tags": [],
            "needs_background": "light"
          }
        }
      ]
    },
    {
      "cell_type": "code",
      "metadata": {
        "id": "o2s0laQeteSQ",
        "colab_type": "code",
        "colab": {
          "base_uri": "https://localhost:8080/",
          "height": 465
        },
        "outputId": "b78858a2-1932-4e17-cdbd-6d10de2a3deb"
      },
      "source": [
        "plt.figure(figsize=(15,10))\n",
        "mask = np.zeros_like(data.corr(), dtype=np.bool)\n",
        "mask[np.triu_indices_from(mask)] = True\n",
        "sns.heatmap(data.corr(), vmin = -1, cmap = 'coolwarm', annot = True, mask=mask)\n",
        "plt.show()"
      ],
      "execution_count": null,
      "outputs": [
        {
          "output_type": "display_data",
          "data": {
            "image/png": "[encoded data removed]",
            "text/plain": [
              "<Figure size 1080x720 with 2 Axes>"
            ]
          },
          "metadata": {
            "tags": [],
            "needs_background": "light"
          }
        }
      ]
    },
    {
      "cell_type": "code",
      "metadata": {
        "id": "2frytnVOlQzu",
        "colab_type": "code",
        "colab": {
          "base_uri": "https://localhost:8080/",
          "height": 204
        },
        "outputId": "a9c65b1a-57aa-4371-95b5-362ba9a8413e"
      },
      "source": [
        "data = data[['ASPECT', 'AREA', 'Class']]\n",
        "data.head()"
      ],
      "execution_count": null,
      "outputs": [
        {
          "output_type": "execute_result",
          "data": {
            "text/html": [
              "<div>\n",
              "<style scoped>\n",
              "    .dataframe tbody tr th:only-of-type {\n",
              "        vertical-align: middle;\n",
              "    }\n",
              "\n",
              "    .dataframe tbody tr th {\n",
              "        vertical-align: top;\n",
              "    }\n",
              "\n",
              "    .dataframe thead th {\n",
              "        text-align: right;\n",
              "    }\n",
              "</style>\n",
              "<table border=\"1\" class=\"dataframe\">\n",
              "  <thead>\n",
              "    <tr style=\"text-align: right;\">\n",
              "      <th></th>\n",
              "      <th>ASPECT</th>\n",
              "      <th>AREA</th>\n",
              "      <th>Class</th>\n",
              "    </tr>\n",
              "  </thead>\n",
              "  <tbody>\n",
              "    <tr>\n",
              "      <th>0</th>\n",
              "      <td>1.45682</td>\n",
              "      <td>6.98565</td>\n",
              "      <td>0.0</td>\n",
              "    </tr>\n",
              "    <tr>\n",
              "      <th>1</th>\n",
              "      <td>1.79825</td>\n",
              "      <td>2.77760</td>\n",
              "      <td>0.0</td>\n",
              "    </tr>\n",
              "    <tr>\n",
              "      <th>2</th>\n",
              "      <td>1.14716</td>\n",
              "      <td>34.69220</td>\n",
              "      <td>0.0</td>\n",
              "    </tr>\n",
              "    <tr>\n",
              "      <th>3</th>\n",
              "      <td>1.03556</td>\n",
              "      <td>2.20124</td>\n",
              "      <td>0.0</td>\n",
              "    </tr>\n",
              "    <tr>\n",
              "      <th>4</th>\n",
              "      <td>1.63244</td>\n",
              "      <td>35.86570</td>\n",
              "      <td>0.0</td>\n",
              "    </tr>\n",
              "  </tbody>\n",
              "</table>\n",
              "</div>"
            ],
            "text/plain": [
              "    ASPECT      AREA  Class\n",
              "0  1.45682   6.98565    0.0\n",
              "1  1.79825   2.77760    0.0\n",
              "2  1.14716  34.69220    0.0\n",
              "3  1.03556   2.20124    0.0\n",
              "4  1.63244  35.86570    0.0"
            ]
          },
          "metadata": {
            "tags": []
          },
          "execution_count": 78
        }
      ]
    },
    {
      "cell_type": "code",
      "metadata": {
        "id": "MaVShQ1cyiuN",
        "colab_type": "code",
        "colab": {
          "base_uri": "https://localhost:8080/",
          "height": 442
        },
        "outputId": "e994e5e4-96c5-4436-be8a-1d614162f076"
      },
      "source": [
        "x = data.drop(['Class'], axis = 1)\n",
        "y = data['Class']\n",
        "print(x,y)"
      ],
      "execution_count": null,
      "outputs": [
        {
          "output_type": "stream",
          "text": [
            "      ASPECT      AREA\n",
            "0    1.45682   6.98565\n",
            "1    1.79825   2.77760\n",
            "2    1.14716  34.69220\n",
            "3    1.03556   2.20124\n",
            "4    1.63244  35.86570\n",
            "..       ...       ...\n",
            "440  1.18056   6.08988\n",
            "441  2.17537   2.80537\n",
            "442  1.30435   1.77766\n",
            "443  1.35196  12.02000\n",
            "444  1.17761   6.22876\n",
            "\n",
            "[399 rows x 2 columns] 0      0.0\n",
            "1      0.0\n",
            "2      0.0\n",
            "3      0.0\n",
            "4      0.0\n",
            "      ... \n",
            "440    0.0\n",
            "441    0.0\n",
            "442    0.0\n",
            "443    0.0\n",
            "444    0.0\n",
            "Name: Class, Length: 399, dtype: float64\n"
          ],
          "name": "stdout"
        }
      ]
    },
    {
      "cell_type": "code",
      "metadata": {
        "id": "VR4FZyag5Q52",
        "colab_type": "code",
        "colab": {
          "base_uri": "https://localhost:8080/",
          "height": 1000
        },
        "outputId": "86f207cd-550e-4702-f9c7-2e529eb086a3"
      },
      "source": [
        "from sklearn import preprocessing \n",
        "min_max_scaler = preprocessing.MinMaxScaler(feature_range =(0, 1)) \n",
        "x_after_min_max_scaler = min_max_scaler.fit_transform(x) \n",
        "print (\"\\nAfter min max Scaling : \\n\", x_after_min_max_scaler)"
      ],
      "execution_count": null,
      "outputs": [
        {
          "output_type": "stream",
          "text": [
            "\n",
            "After min max Scaling : \n",
            " [[0.12526163 0.10459977]\n",
            " [0.22029758 0.03063555]\n",
            " [0.03906876 0.59159334]\n",
            " [0.00800524 0.02050497]\n",
            " [0.17414489 0.61221977]\n",
            " [0.12454906 0.26473446]\n",
            " [0.07288787 0.01000843]\n",
            " [0.11817771 0.0401557 ]\n",
            " [0.12579884 0.24398499]\n",
            " [0.29667595 0.61266444]\n",
            " [0.171971   0.27498703]\n",
            " [0.02614233 0.08433895]\n",
            " [0.06627436 0.        ]\n",
            " [0.16408545 0.50395874]\n",
            " [0.26360279 0.30952726]\n",
            " [0.05551625 0.04784504]\n",
            " [0.96776468 0.11375379]\n",
            " [0.4131613  0.15342121]\n",
            " [0.11438104 0.2402007 ]\n",
            " [0.24412965 0.1136318 ]\n",
            " [0.20656119 0.00768952]\n",
            " [0.01866869 0.36937815]\n",
            " [0.0630539  0.02831646]\n",
            " [0.08672172 0.200412  ]\n",
            " [0.0684093  0.02843845]\n",
            " [0.14082958 0.11619486]\n",
            " [0.11284457 0.26937123]\n",
            " [0.29107285 0.03966741]\n",
            " [0.71448847 0.07994509]\n",
            " [0.24195576 0.02965898]\n",
            " [0.1916223  0.0572432 ]\n",
            " [0.08071779 0.00976429]\n",
            " [0.07878884 0.03380887]\n",
            " [0.46801515 0.12681356]\n",
            " [0.2953037  0.17172836]\n",
            " [0.19326177 0.01867416]\n",
            " [0.29490565 0.43341235]\n",
            " [0.06924988 0.08092148]\n",
            " [0.15116738 0.0615149 ]\n",
            " [0.04214728 0.09898538]\n",
            " [0.06202958 0.11436406]\n",
            " [0.03487127 0.03747048]\n",
            " [0.01055491 0.16587   ]\n",
            " [0.00870109 0.2668085 ]\n",
            " [0.4368403  0.11070245]\n",
            " [0.07055813 0.04320704]\n",
            " [0.07822101 0.04406127]\n",
            " [0.08415815 0.47075961]\n",
            " [0.07755296 0.07066892]\n",
            " [0.06202958 0.13242795]\n",
            " [0.07134586 0.0947135 ]\n",
            " [0.12456021 0.26985986]\n",
            " [0.10700207 0.15610642]\n",
            " [0.19862549 0.28462792]\n",
            " [0.09444306 0.23007116]\n",
            " [0.02163867 0.04857729]\n",
            " [0.21152133 0.0355177 ]\n",
            " [0.06464883 0.03490743]\n",
            " [0.1762492  0.01855218]\n",
            " [0.14826977 0.31221299]\n",
            " [0.16034446 0.11863594]\n",
            " [0.2393894  0.49749046]\n",
            " [0.13025519 0.25814313]\n",
            " [0.10635354 0.05260502]\n",
            " [0.28529993 0.11534045]\n",
            " [0.00246615 0.53483773]\n",
            " [0.17551715 0.20248607]\n",
            " [0.07208345 0.07164548]\n",
            " [0.06029548 0.09495764]\n",
            " [0.15792005 0.04930971]\n",
            " [0.41976648 0.26754146]\n",
            " [0.37670621 0.09764286]\n",
            " [0.2878774  0.09300469]\n",
            " [0.0115124  0.04210848]\n",
            " [0.0589956  0.04284074]\n",
            " [0.03846751 0.25753321]\n",
            " [0.07400685 0.17563568]\n",
            " [0.06112217 0.08714615]\n",
            " [0.06791104 0.06700731]\n",
            " [0.14341541 0.02819448]\n",
            " [0.10837711 0.0615149 ]\n",
            " [0.21747516 0.36042452]\n",
            " [0.03402232 0.05577851]\n",
            " [0.07282944 0.41302848]\n",
            " [0.24456944 0.27840394]\n",
            " [0.39968655 0.05211691]\n",
            " [0.32516475 0.0220918 ]\n",
            " [0.01851284 0.06920441]\n",
            " [0.04218066 0.14231439]\n",
            " [0.18264839 0.37299549]\n",
            " [0.10828248 0.05248303]\n",
            " [0.08437247 0.00195296]\n",
            " [0.11784092 0.03454113]\n",
            " [0.10653723 0.2865807 ]\n",
            " [0.13742817 0.15757092]\n",
            " [0.24570507 0.48577198]\n",
            " [0.13071445 0.102525  ]\n",
            " [0.00811378 0.05089638]\n",
            " [0.47703913 0.0854375 ]\n",
            " [0.26174622 0.26522131]\n",
            " [0.18019893 0.04454956]\n",
            " [0.143382   0.18576523]\n",
            " [0.06970082 0.09630017]\n",
            " [0.03666104 0.10777327]\n",
            " [0.05579461 0.0928827 ]\n",
            " [0.17118606 0.04088795]\n",
            " [0.034952   0.05834157]\n",
            " [0.25983397 0.4850408 ]\n",
            " [0.01019582 0.05614464]\n",
            " [0.08259662 0.03686022]\n",
            " [0.21282118 0.48369791]\n",
            " [0.24285481 0.11558459]\n",
            " [0.10111782 0.24679201]\n",
            " [0.09088859 0.12254168]\n",
            " [0.20709282 0.00903203]\n",
            " [0.01323259 0.1451216 ]\n",
            " [0.05262146 0.2226256 ]\n",
            " [0.2237825  0.3344266 ]\n",
            " [0.1536029  0.03795877]\n",
            " [0.049195   0.14731852]\n",
            " [0.17191533 0.077626  ]\n",
            " [0.02920134 0.18979383]\n",
            " [0.12787252 0.17026421]\n",
            " [0.079031   0.03295446]\n",
            " [0.20513604 0.07518493]\n",
            " [0.04844626 0.09080776]\n",
            " [0.03242459 0.03612796]\n",
            " [0.27677971 0.33210646]\n",
            " [0.03686425 0.09434738]\n",
            " [0.16814375 0.11949034]\n",
            " [0.03098554 0.2227469 ]\n",
            " [0.03810288 0.21981859]\n",
            " [0.07873874 0.34516783]\n",
            " [0.10242882 0.08397282]\n",
            " [0.18291839 0.11070245]\n",
            " [0.04076109 0.08555948]\n",
            " [0.0165171  0.17551264]\n",
            " [0.09257537 0.11570675]\n",
            " [0.05157767 0.08934308]\n",
            " [0.15559031 0.21615734]\n",
            " [0.25231862 0.23263387]\n",
            " [0.12172939 0.02843845]\n",
            " [0.00337078 0.16440584]\n",
            " [0.05059231 0.04735675]\n",
            " [0.20356058 0.32222126]\n",
            " [0.05996144 0.06822784]\n",
            " [0.02729191 0.09959565]\n",
            " [0.02304709 0.01232752]\n",
            " [0.23442926 0.02599738]\n",
            " [0.08634876 0.02074911]\n",
            " [0.10680723 0.20273038]\n",
            " [0.1795643  0.09166216]\n",
            " [0.13001024 0.42804085]\n",
            " [0.05402709 0.1136318 ]\n",
            " [0.14546683 0.05651077]\n",
            " [0.06336006 0.1766112 ]\n",
            " [0.07705474 0.16989861]\n",
            " [0.00675825 0.09410324]\n",
            " [0.09067423 0.13938504]\n",
            " [0.04849636 0.02001686]\n",
            " [0.10147409 0.04747891]\n",
            " [0.06556736 0.02257991]\n",
            " [0.06644694 0.1006942 ]\n",
            " [0.38871136 0.20456189]\n",
            " [0.05488719 0.04406127]\n",
            " [0.02974691 0.08983136]\n",
            " [0.11438941 0.06310173]\n",
            " [0.15234755 0.36640417]\n",
            " [0.18926469 0.14756267]\n",
            " [0.07883895 0.0587077 ]\n",
            " [0.4458309  0.31305847]\n",
            " [0.13391823 0.11448622]\n",
            " [0.08415257 0.28548214]\n",
            " [0.44913207 0.30313455]\n",
            " [0.21424633 0.03344275]\n",
            " [0.02582777 0.09080776]\n",
            " [0.04493074 0.11692728]\n",
            " [0.04874964 0.17600129]\n",
            " [0.15008739 0.15696064]\n",
            " [0.44895674 0.22469967]\n",
            " [0.72631543 0.0605385 ]\n",
            " [0.05446688 0.10899381]\n",
            " [0.13579707 0.46319278]\n",
            " [0.28258608 0.09788683]\n",
            " [0.10811269 0.10118231]\n",
            " [0.09227196 0.15085797]\n",
            " [0.09277021 0.20102192]\n",
            " [0.1218157  0.02404459]\n",
            " [0.02151062 0.26143879]\n",
            " [0.02993896 0.01684336]\n",
            " [0.06583179 0.09691043]\n",
            " [0.03313162 0.0313678 ]\n",
            " [0.12300701 0.04760089]\n",
            " [0.03209616 0.09178414]\n",
            " [0.10793454 0.22116146]\n",
            " [0.21363675 0.09239442]\n",
            " [0.03218801 0.17722112]\n",
            " [0.1928832  0.38788656]\n",
            " [0.05377661 0.04223046]\n",
            " [0.06760488 0.10484391]\n",
            " [0.0744856  0.043451  ]\n",
            " [0.07730248 0.14890518]\n",
            " [0.09593221 0.03161194]\n",
            " [0.03738473 0.04247461]\n",
            " [0.18308539 0.15451957]\n",
            " [0.08716429 0.28096664]\n",
            " [0.050442   0.07091305]\n",
            " [0.32679867 0.09459152]\n",
            " [0.05591429 0.18613082]\n",
            " [0.10994978 0.6474244 ]\n",
            " [0.11956387 0.09459152]\n",
            " [0.11739834 0.05675491]\n",
            " [0.13015777 0.10716301]\n",
            " [0.05487608 0.02416657]\n",
            " [0.01113108 0.11790368]\n",
            " [0.41804356 0.0956899 ]\n",
            " [0.2171968  0.23983509]\n",
            " [0.15464112 0.06017238]\n",
            " [0.28938604 0.2227469 ]\n",
            " [0.04481106 0.01879632]\n",
            " [0.05095694 0.14207026]\n",
            " [0.06193216 0.2331225 ]\n",
            " [0.01130923 0.17929695]\n",
            " [0.06971194 0.159523  ]\n",
            " [0.28356307 0.47515382]\n",
            " [0.10154925 0.25667899]\n",
            " [0.37393669 0.27364414]\n",
            " [0.02192257 0.1922335 ]\n",
            " [0.08428898 0.07994509]\n",
            " [0.03318448 0.4219382 ]\n",
            " [0.06265028 0.08250814]\n",
            " [0.04648669 0.01904046]\n",
            " [0.19816623 0.41937547]\n",
            " [0.25201521 0.18002815]\n",
            " [0.37989888 0.0189183 ]\n",
            " [0.25229914 0.07079107]\n",
            " [0.03718435 0.30928293]\n",
            " [0.01846552 0.11009218]\n",
            " [0.11505745 0.44285109]\n",
            " [0.11690009 0.072988  ]\n",
            " [0.06469058 0.03063555]\n",
            " [0.06379706 0.17514705]\n",
            " [0.06385553 0.072988  ]\n",
            " [0.07685433 0.03148979]\n",
            " [0.24123207 0.09520179]\n",
            " [0.04836553 0.06627506]\n",
            " [0.07110367 0.07506295]\n",
            " [0.1164965  0.07750402]\n",
            " [0.09556758 0.01501273]\n",
            " [0.1792943  0.05138448]\n",
            " [0.43736079 0.20602604]\n",
            " [0.15590484 0.11131272]\n",
            " [0.02147724 0.08555948]\n",
            " [0.50639363 0.063712  ]\n",
            " [0.58679964 0.043451  ]\n",
            " [0.23622183 0.01000843]\n",
            " [0.23685646 0.11131272]\n",
            " [0.14018101 0.02660764]\n",
            " [0.22969738 0.12193142]\n",
            " [0.05811323 0.42108394]\n",
            " [0.09380286 0.07799213]\n",
            " [0.25312304 0.22946125]\n",
            " [0.10383449 0.08128761]\n",
            " [0.3768844  0.10045005]\n",
            " [0.01611627 0.27730539]\n",
            " [0.23309042 0.26143879]\n",
            " [0.06956441 0.19992337]\n",
            " [0.06914413 0.11448622]\n",
            " [0.13728065 0.04430541]\n",
            " [0.23176269 0.01745363]\n",
            " [0.02486471 0.15195653]\n",
            " [0.22730635 0.03710435]\n",
            " [0.03155059 0.24398499]\n",
            " [0.11664678 0.08995334]\n",
            " [0.02924311 0.0596841 ]\n",
            " [0.61531074 0.0021971 ]\n",
            " [0.12492205 0.02477684]\n",
            " [0.13497314 0.10240284]\n",
            " [0.0271555  0.08751227]\n",
            " [0.06964514 0.07725988]\n",
            " [0.24248739 0.41373506]\n",
            " [0.04759731 0.06029436]\n",
            " [1.         0.05394771]\n",
            " [0.06988173 0.03759246]\n",
            " [0.11073748 0.32868954]\n",
            " [0.09333247 0.02880475]\n",
            " [0.07639227 0.0540697 ]\n",
            " [0.01684274 0.08104347]\n",
            " [0.23678684 0.05455798]\n",
            " [0.04486392 0.04930971]\n",
            " [0.06234132 0.01830804]\n",
            " [0.05347877 0.16001163]\n",
            " [0.05587813 0.23214522]\n",
            " [0.03558663 0.0633457 ]\n",
            " [0.10065577 0.08311842]\n",
            " [0.03700062 0.03026925]\n",
            " [0.54404    0.09861925]\n",
            " [0.50341805 0.09861925]\n",
            " [0.02828281 0.25008767]\n",
            " [0.26047139 0.08494922]\n",
            " [0.07027144 0.10643057]\n",
            " [0.11018079 0.0096423 ]\n",
            " [0.         0.22457839]\n",
            " [0.05153589 0.10911579]\n",
            " [0.22612618 0.17331554]\n",
            " [0.05354278 0.07774816]\n",
            " [0.06415615 0.03222222]\n",
            " [0.08774324 0.04369515]\n",
            " [0.02258783 0.17685553]\n",
            " [0.24579138 0.25082061]\n",
            " [0.36155029 0.15805884]\n",
            " [0.02493708 0.14268052]\n",
            " [0.29485833 0.02575341]\n",
            " [0.07362271 0.11216713]\n",
            " [0.13744207 0.1285222 ]\n",
            " [0.07847989 0.09544575]\n",
            " [0.15234476 0.10313527]\n",
            " [0.05353445 0.13889675]\n",
            " [0.14500199 0.04918756]\n",
            " [0.12648357 0.22567695]\n",
            " [0.03881545 0.4140743 ]\n",
            " [0.07737485 0.0323442 ]\n",
            " [0.24311091 0.11814783]\n",
            " [0.16298877 0.32734665]\n",
            " [0.22110757 0.47669179]\n",
            " [0.3752366  0.21554566]\n",
            " [0.03853431 0.17075284]\n",
            " [0.04670937 0.11241127]\n",
            " [0.034412   0.05541239]\n",
            " [0.16912632 0.13853064]\n",
            " [0.21667074 0.27388847]\n",
            " [0.78416982 0.08653588]\n",
            " [0.0680725  0.19308774]\n",
            " [0.01886911 0.13865279]\n",
            " [0.10109556 0.059074  ]\n",
            " [0.07515643 0.0419865 ]\n",
            " [0.02559955 0.08714615]\n",
            " [0.4262325  0.25350461]\n",
            " [0.06511089 0.07042494]\n",
            " [0.11439219 0.1275458 ]\n",
            " [0.06123628 0.04772288]\n",
            " [0.6370023  0.02929286]\n",
            " [0.04248686 0.04577009]\n",
            " [0.06971194 0.05565636]\n",
            " [0.62008437 0.0267298 ]\n",
            " [0.05499298 0.10081618]\n",
            " [0.38190297 0.0872683 ]\n",
            " [0.58651017 0.06261345]\n",
            " [0.09747147 0.06297958]\n",
            " [0.03764919 0.04821116]\n",
            " [0.07811801 1.        ]\n",
            " [0.03881545 0.21578997]\n",
            " [0.18117038 0.12864435]\n",
            " [0.14354625 0.19687203]\n",
            " [0.04498639 0.03283248]\n",
            " [0.12816757 0.00903203]\n",
            " [0.15113954 0.05114052]\n",
            " [0.18093934 0.18246957]\n",
            " [0.33511848 0.36860128]\n",
            " [0.10686569 0.25362764]\n",
            " [0.23006201 0.13755423]\n",
            " [0.05418019 0.22482271]\n",
            " [0.08825265 0.04760089]\n",
            " [0.04216676 0.12644743]\n",
            " [0.71331106 0.0198947 ]\n",
            " [0.13424666 0.16343033]\n",
            " [0.07035493 0.01733164]\n",
            " [0.25638803 0.12461662]\n",
            " [0.30508203 0.16709159]\n",
            " [0.60213933 0.26790705]\n",
            " [0.00748194 0.12498275]\n",
            " [0.17943071 0.2416666 ]\n",
            " [0.06258348 0.01513471]\n",
            " [0.1557907  0.03173393]\n",
            " [0.13996948 0.01916245]\n",
            " [0.26190765 0.13474704]\n",
            " [0.05969423 0.03954543]\n",
            " [0.17170937 0.07823627]\n",
            " [0.04659526 0.03380887]\n",
            " [0.04959305 0.17917391]\n",
            " [0.09474368 0.07530709]\n",
            " [0.1468363  0.09971763]\n",
            " [0.09088859 0.0096423 ]\n",
            " [0.31526677 0.29720063]\n",
            " [0.11825286 0.07335413]\n",
            " [0.05643481 0.03930129]\n",
            " [0.00313416 0.21688853]\n",
            " [0.09917498 0.03978939]\n",
            " [0.04614154 0.13877477]\n",
            " [0.28400837 0.08946523]\n",
            " [0.06963957 0.06810586]\n",
            " [0.08282209 0.224944  ]\n",
            " [0.19025283 0.18661946]\n",
            " [0.04497249 0.10887165]\n",
            " [0.04836553 0.08885497]\n",
            " [0.32526774 0.03112366]\n",
            " [0.08282209 0.01305977]\n",
            " [0.09607416 0.19308774]\n",
            " [0.04754442 0.09129603]]\n"
          ],
          "name": "stdout"
        }
      ]
    },
    {
      "cell_type": "code",
      "metadata": {
        "id": "B9lkqgRSmVmp",
        "colab_type": "code",
        "colab": {}
      },
      "source": [
        "x_train, x_test, y_train, y_test = train_test_split(x,y, test_size = 0.2, random_state=123)\n"
      ],
      "execution_count": null,
      "outputs": []
    },
    {
      "cell_type": "code",
      "metadata": {
        "id": "CWItXdZKy_vt",
        "colab_type": "code",
        "colab": {
          "base_uri": "https://localhost:8080/",
          "height": 102
        },
        "outputId": "afb47338-53ba-4305-fc70-068398ea821e"
      },
      "source": [
        "from sklearn.linear_model import LogisticRegression\n",
        "\n",
        "logreg =LogisticRegression(random_state=1)\n",
        "\n",
        "logreg.fit(x_train, y_train)"
      ],
      "execution_count": null,
      "outputs": [
        {
          "output_type": "execute_result",
          "data": {
            "text/plain": [
              "LogisticRegression(C=1.0, class_weight=None, dual=False, fit_intercept=True,\n",
              "                   intercept_scaling=1, l1_ratio=None, max_iter=100,\n",
              "                   multi_class='auto', n_jobs=None, penalty='l2',\n",
              "                   random_state=1, solver='lbfgs', tol=0.0001, verbose=0,\n",
              "                   warm_start=False)"
            ]
          },
          "metadata": {
            "tags": []
          },
          "execution_count": 82
        }
      ]
    },
    {
      "cell_type": "code",
      "metadata": {
        "id": "sAbrb83wzmC1",
        "colab_type": "code",
        "colab": {
          "base_uri": "https://localhost:8080/",
          "height": 34
        },
        "outputId": "aae06836-7b39-4ea3-8f76-34bcb7656b4b"
      },
      "source": [
        "y_pred = logreg.predict(x_test)\n",
        "\n",
        "acc = accuracy_score(y_test, y_pred)\n",
        "print(\"Test set accuracy:{:.2f}\".format(acc))"
      ],
      "execution_count": null,
      "outputs": [
        {
          "output_type": "stream",
          "text": [
            "Test set accuracy:0.88\n"
          ],
          "name": "stdout"
        }
      ]
    },
    {
      "cell_type": "code",
      "metadata": {
        "id": "8sc06LGb0Iz4",
        "colab_type": "code",
        "colab": {
          "base_uri": "https://localhost:8080/",
          "height": 370
        },
        "outputId": "0d7a52d8-7a57-4daa-efd2-6b7002a9134b"
      },
      "source": [
        "from mlxtend.plotting import plot_decision_regions\n",
        "plot_decision_regions(x.values, y.astype(np.integer).values, clf = logreg, legend=2)"
      ],
      "execution_count": null,
      "outputs": [
        {
          "output_type": "stream",
          "text": [
            "/usr/local/lib/python3.6/dist-packages/mlxtend/plotting/decision_regions.py:242: UserWarning: No contour levels were found within the data range.\n",
            "  antialiased=True)\n",
            "/usr/local/lib/python3.6/dist-packages/mlxtend/plotting/decision_regions.py:244: MatplotlibDeprecationWarning: Passing unsupported keyword arguments to axis() will raise a TypeError in 3.3.\n",
            "  ax.axis(xmin=xx.min(), xmax=xx.max(), y_min=yy.min(), y_max=yy.max())\n"
          ],
          "name": "stderr"
        },
        {
          "output_type": "execute_result",
          "data": {
            "text/plain": [
              "<matplotlib.axes._subplots.AxesSubplot at 0x7f7fd5b72c88>"
            ]
          },
          "metadata": {
            "tags": []
          },
          "execution_count": 84
        },
        {
          "output_type": "display_data",
          "data": {
            "image/png": "[encoded data removed]",
            "text/plain": [
              "<Figure size 432x288 with 1 Axes>"
            ]
          },
          "metadata": {
            "tags": [],
            "needs_background": "light"
          }
        }
      ]
    },
    {
      "cell_type": "code",
      "metadata": {
        "id": "4duJVnj31WxD",
        "colab_type": "code",
        "colab": {
          "base_uri": "https://localhost:8080/",
          "height": 298
        },
        "outputId": "c004c434-4c30-4350-8892-08f9066e94cf"
      },
      "source": [
        "sns.scatterplot(data.ASPECT, data['AREA'],hue = data.Class)"
      ],
      "execution_count": null,
      "outputs": [
        {
          "output_type": "execute_result",
          "data": {
            "text/plain": [
              "<matplotlib.axes._subplots.AxesSubplot at 0x7f7fd5ae0978>"
            ]
          },
          "metadata": {
            "tags": []
          },
          "execution_count": 85
        },
        {
          "output_type": "display_data",
          "data": {
            "image/png": "[encoded data removed]",
            "text/plain": [
              "<Figure size 432x288 with 1 Axes>"
            ]
          },
          "metadata": {
            "tags": [],
            "needs_background": "light"
          }
        }
      ]
    },
    {
      "cell_type": "code",
      "metadata": {
        "id": "mcD-nlbF6KEB",
        "colab_type": "code",
        "colab": {
          "base_uri": "https://localhost:8080/",
          "height": 136
        },
        "outputId": "4d925499-e956-4161-a082-bfcaf76de370"
      },
      "source": [
        "from xgboost import XGBClassifier\n",
        "import xgboost as xgb\n",
        "# Instantiating the classifier and fitting it \n",
        "xgb_clf = xgb.XGBClassifier(learning_rate=0.01)\n",
        "xgb_clf.fit(x_train, y_train)"
      ],
      "execution_count": null,
      "outputs": [
        {
          "output_type": "execute_result",
          "data": {
            "text/plain": [
              "XGBClassifier(base_score=0.5, booster='gbtree', colsample_bylevel=1,\n",
              "              colsample_bynode=1, colsample_bytree=1, gamma=0,\n",
              "              learning_rate=0.01, max_delta_step=0, max_depth=3,\n",
              "              min_child_weight=1, missing=None, n_estimators=100, n_jobs=1,\n",
              "              nthread=None, objective='binary:logistic', random_state=0,\n",
              "              reg_alpha=0, reg_lambda=1, scale_pos_weight=1, seed=None,\n",
              "              silent=None, subsample=1, verbosity=1)"
            ]
          },
          "metadata": {
            "tags": []
          },
          "execution_count": 87
        }
      ]
    },
    {
      "cell_type": "code",
      "metadata": {
        "id": "vp3tQxD96jPq",
        "colab_type": "code",
        "colab": {
          "base_uri": "https://localhost:8080/",
          "height": 34
        },
        "outputId": "a9a5bacd-5361-4ba1-884d-6a09f3df2f55"
      },
      "source": [
        "# Applying classifier on train (seen) set\n",
        "predictions = xgb_clf.predict(x_train)\n",
        "# accuracy score\n",
        "accuracy = accuracy_score(y_train, predictions)\n",
        "print(np.round(accuracy*100, 2), '%')"
      ],
      "execution_count": null,
      "outputs": [
        {
          "output_type": "stream",
          "text": [
            "90.28 %\n"
          ],
          "name": "stdout"
        }
      ]
    },
    {
      "cell_type": "code",
      "metadata": {
        "id": "sScfbYCG6pu5",
        "colab_type": "code",
        "colab": {
          "base_uri": "https://localhost:8080/",
          "height": 34
        },
        "outputId": "6b098bdd-f8af-428a-8a32-13129e18a4a4"
      },
      "source": [
        "# Applying classifier on test (unseen) set\n",
        "predictions = xgb_clf.predict(x_test)\n",
        "# accuracy score\n",
        "accuracy = accuracy_score(y_test, predictions)\n",
        "print(np.round(accuracy*100, 2), '%')"
      ],
      "execution_count": null,
      "outputs": [
        {
          "output_type": "stream",
          "text": [
            "88.75 %\n"
          ],
          "name": "stdout"
        }
      ]
    },
    {
      "cell_type": "code",
      "metadata": {
        "id": "4hQbeYta63VI",
        "colab_type": "code",
        "colab": {
          "base_uri": "https://localhost:8080/",
          "height": 221
        },
        "outputId": "b1fe9875-6d84-4964-9492-fbb4441759e0"
      },
      "source": [
        "print(confusion_matrix(y_test, predictions))\n",
        "print(\"=\"*60)\n",
        "print(classification_report(y_test, predictions))\n",
        "# plot roc auc"
      ],
      "execution_count": null,
      "outputs": [
        {
          "output_type": "stream",
          "text": [
            "[[70  0]\n",
            " [ 9  1]]\n",
            "============================================================\n",
            "              precision    recall  f1-score   support\n",
            "\n",
            "         0.0       0.89      1.00      0.94        70\n",
            "         1.0       1.00      0.10      0.18        10\n",
            "\n",
            "    accuracy                           0.89        80\n",
            "   macro avg       0.94      0.55      0.56        80\n",
            "weighted avg       0.90      0.89      0.84        80\n",
            "\n"
          ],
          "name": "stdout"
        }
      ]
    },
    {
      "cell_type": "code",
      "metadata": {
        "id": "C13k-Ee77GpY",
        "colab_type": "code",
        "colab": {
          "base_uri": "https://localhost:8080/",
          "height": 295
        },
        "outputId": "77e7ba7e-db9b-4dfb-dc86-0a0051d565f7"
      },
      "source": [
        "from sklearn.metrics import roc_curve  \n",
        "probs = xgb_clf.predict_proba(x_test)  \n",
        "probs = probs[:, 1] \n",
        "fper, tper, thresholds = roc_curve(y_test, probs) \n",
        "plt.plot(fper, tper)\n",
        "plt.plot([0,1], [0,1], 'k--')\n",
        "plt.xlabel('False Positive Rate')\n",
        "plt.ylabel('True Positive Rate')\n",
        "plt.title('XGBoost ROC curve')\n",
        "# show the plot\n",
        "plt.show()"
      ],
      "execution_count": null,
      "outputs": [
        {
          "output_type": "display_data",
          "data": {
            "image/png": "[encoded data removed]",
            "text/plain": [
              "<Figure size 432x288 with 1 Axes>"
            ]
          },
          "metadata": {
            "tags": [],
            "needs_background": "light"
          }
        }
      ]
    },
    {
      "cell_type": "markdown",
      "metadata": {
        "id": "lEujYAG5VjrY",
        "colab_type": "text"
      },
      "source": [
        "**Visualizing the effect of parameter tuning**"
      ]
    },
    {
      "cell_type": "code",
      "metadata": {
        "id": "SQa6MAak9NdS",
        "colab_type": "code",
        "colab": {
          "base_uri": "https://localhost:8080/",
          "height": 419
        },
        "outputId": "6e5c99ab-b4c4-4faa-ebe3-6659f950ce4f"
      },
      "source": [
        "data1 =pd.read_csv('Sample_data.csv')\n",
        "data1"
      ],
      "execution_count": 103,
      "outputs": [
        {
          "output_type": "execute_result",
          "data": {
            "text/html": [
              "<div>\n",
              "<style scoped>\n",
              "    .dataframe tbody tr th:only-of-type {\n",
              "        vertical-align: middle;\n",
              "    }\n",
              "\n",
              "    .dataframe tbody tr th {\n",
              "        vertical-align: top;\n",
              "    }\n",
              "\n",
              "    .dataframe thead th {\n",
              "        text-align: right;\n",
              "    }\n",
              "</style>\n",
              "<table border=\"1\" class=\"dataframe\">\n",
              "  <thead>\n",
              "    <tr style=\"text-align: right;\">\n",
              "      <th></th>\n",
              "      <th>PART#</th>\n",
              "      <th>X_FERET</th>\n",
              "      <th>Y_FERET</th>\n",
              "      <th>DAVE</th>\n",
              "      <th>DMAX</th>\n",
              "      <th>DMIN</th>\n",
              "      <th>DPERP</th>\n",
              "      <th>ASPECT</th>\n",
              "      <th>AREA</th>\n",
              "      <th>PERIMETER</th>\n",
              "      <th>Mg</th>\n",
              "      <th>Al</th>\n",
              "      <th>Mg/Al</th>\n",
              "      <th>Class</th>\n",
              "    </tr>\n",
              "  </thead>\n",
              "  <tbody>\n",
              "    <tr>\n",
              "      <th>0</th>\n",
              "      <td>1</td>\n",
              "      <td>2.99990</td>\n",
              "      <td>3.58322</td>\n",
              "      <td>3.29594</td>\n",
              "      <td>3.76466</td>\n",
              "      <td>2.58417</td>\n",
              "      <td>2.58417</td>\n",
              "      <td>1.45682</td>\n",
              "      <td>6.98565</td>\n",
              "      <td>12.001600</td>\n",
              "      <td>0.020279</td>\n",
              "      <td>0.062260</td>\n",
              "      <td>0.325709</td>\n",
              "      <td>0.0</td>\n",
              "    </tr>\n",
              "    <tr>\n",
              "      <th>1</th>\n",
              "      <td>2</td>\n",
              "      <td>2.33326</td>\n",
              "      <td>2.08327</td>\n",
              "      <td>2.27187</td>\n",
              "      <td>2.66788</td>\n",
              "      <td>1.48360</td>\n",
              "      <td>1.48360</td>\n",
              "      <td>1.79825</td>\n",
              "      <td>2.77760</td>\n",
              "      <td>7.742380</td>\n",
              "      <td>0.020724</td>\n",
              "      <td>0.055203</td>\n",
              "      <td>0.375406</td>\n",
              "      <td>0.0</td>\n",
              "    </tr>\n",
              "    <tr>\n",
              "      <th>2</th>\n",
              "      <td>3</td>\n",
              "      <td>7.83308</td>\n",
              "      <td>6.83311</td>\n",
              "      <td>7.25698</td>\n",
              "      <td>7.81399</td>\n",
              "      <td>6.81158</td>\n",
              "      <td>6.81158</td>\n",
              "      <td>1.14716</td>\n",
              "      <td>34.69220</td>\n",
              "      <td>29.452801</td>\n",
              "      <td>0.021017</td>\n",
              "      <td>0.053570</td>\n",
              "      <td>0.392320</td>\n",
              "      <td>0.0</td>\n",
              "    </tr>\n",
              "    <tr>\n",
              "      <th>3</th>\n",
              "      <td>4</td>\n",
              "      <td>1.83327</td>\n",
              "      <td>1.74994</td>\n",
              "      <td>1.73706</td>\n",
              "      <td>1.79886</td>\n",
              "      <td>1.73710</td>\n",
              "      <td>1.73710</td>\n",
              "      <td>1.03556</td>\n",
              "      <td>2.20124</td>\n",
              "      <td>6.644780</td>\n",
              "      <td>0.020140</td>\n",
              "      <td>0.061045</td>\n",
              "      <td>0.329927</td>\n",
              "      <td>0.0</td>\n",
              "    </tr>\n",
              "    <tr>\n",
              "      <th>4</th>\n",
              "      <td>5</td>\n",
              "      <td>7.33309</td>\n",
              "      <td>8.41639</td>\n",
              "      <td>8.39133</td>\n",
              "      <td>8.94592</td>\n",
              "      <td>5.48010</td>\n",
              "      <td>6.61726</td>\n",
              "      <td>1.63244</td>\n",
              "      <td>35.86570</td>\n",
              "      <td>34.866798</td>\n",
              "      <td>0.020244</td>\n",
              "      <td>0.060383</td>\n",
              "      <td>0.335254</td>\n",
              "      <td>0.0</td>\n",
              "    </tr>\n",
              "    <tr>\n",
              "      <th>...</th>\n",
              "      <td>...</td>\n",
              "      <td>...</td>\n",
              "      <td>...</td>\n",
              "      <td>...</td>\n",
              "      <td>...</td>\n",
              "      <td>...</td>\n",
              "      <td>...</td>\n",
              "      <td>...</td>\n",
              "      <td>...</td>\n",
              "      <td>...</td>\n",
              "      <td>...</td>\n",
              "      <td>...</td>\n",
              "      <td>...</td>\n",
              "      <td>...</td>\n",
              "    </tr>\n",
              "    <tr>\n",
              "      <th>440</th>\n",
              "      <td>460</td>\n",
              "      <td>2.91657</td>\n",
              "      <td>2.91657</td>\n",
              "      <td>2.88842</td>\n",
              "      <td>3.16766</td>\n",
              "      <td>2.68319</td>\n",
              "      <td>2.68319</td>\n",
              "      <td>1.18056</td>\n",
              "      <td>6.08988</td>\n",
              "      <td>11.335000</td>\n",
              "      <td>0.020551</td>\n",
              "      <td>0.058200</td>\n",
              "      <td>0.353107</td>\n",
              "      <td>0.0</td>\n",
              "    </tr>\n",
              "    <tr>\n",
              "      <th>441</th>\n",
              "      <td>461</td>\n",
              "      <td>1.83327</td>\n",
              "      <td>2.66658</td>\n",
              "      <td>2.35166</td>\n",
              "      <td>2.68991</td>\n",
              "      <td>1.23653</td>\n",
              "      <td>1.49468</td>\n",
              "      <td>2.17537</td>\n",
              "      <td>2.80537</td>\n",
              "      <td>7.791190</td>\n",
              "      <td>0.020426</td>\n",
              "      <td>0.058358</td>\n",
              "      <td>0.350002</td>\n",
              "      <td>0.0</td>\n",
              "    </tr>\n",
              "    <tr>\n",
              "      <th>442</th>\n",
              "      <td>462</td>\n",
              "      <td>1.58328</td>\n",
              "      <td>1.66661</td>\n",
              "      <td>1.61402</td>\n",
              "      <td>1.76771</td>\n",
              "      <td>1.35524</td>\n",
              "      <td>1.35524</td>\n",
              "      <td>1.30435</td>\n",
              "      <td>1.77766</td>\n",
              "      <td>6.055550</td>\n",
              "      <td>0.019970</td>\n",
              "      <td>0.061858</td>\n",
              "      <td>0.322826</td>\n",
              "      <td>0.0</td>\n",
              "    </tr>\n",
              "    <tr>\n",
              "      <th>443</th>\n",
              "      <td>463</td>\n",
              "      <td>3.74988</td>\n",
              "      <td>4.49985</td>\n",
              "      <td>4.23152</td>\n",
              "      <td>4.74472</td>\n",
              "      <td>3.50952</td>\n",
              "      <td>3.50952</td>\n",
              "      <td>1.35196</td>\n",
              "      <td>12.02000</td>\n",
              "      <td>16.085800</td>\n",
              "      <td>0.020689</td>\n",
              "      <td>0.057645</td>\n",
              "      <td>0.358899</td>\n",
              "      <td>0.0</td>\n",
              "    </tr>\n",
              "    <tr>\n",
              "      <th>444</th>\n",
              "      <td>464</td>\n",
              "      <td>2.74991</td>\n",
              "      <td>2.99990</td>\n",
              "      <td>2.97611</td>\n",
              "      <td>3.25416</td>\n",
              "      <td>2.76337</td>\n",
              "      <td>2.76337</td>\n",
              "      <td>1.17761</td>\n",
              "      <td>6.22876</td>\n",
              "      <td>11.217100</td>\n",
              "      <td>0.020843</td>\n",
              "      <td>0.055993</td>\n",
              "      <td>0.372241</td>\n",
              "      <td>0.0</td>\n",
              "    </tr>\n",
              "  </tbody>\n",
              "</table>\n",
              "<p>445 rows × 14 columns</p>\n",
              "</div>"
            ],
            "text/plain": [
              "     PART#  X_FERET  Y_FERET     DAVE  ...        Mg        Al     Mg/Al  Class\n",
              "0        1  2.99990  3.58322  3.29594  ...  0.020279  0.062260  0.325709    0.0\n",
              "1        2  2.33326  2.08327  2.27187  ...  0.020724  0.055203  0.375406    0.0\n",
              "2        3  7.83308  6.83311  7.25698  ...  0.021017  0.053570  0.392320    0.0\n",
              "3        4  1.83327  1.74994  1.73706  ...  0.020140  0.061045  0.329927    0.0\n",
              "4        5  7.33309  8.41639  8.39133  ...  0.020244  0.060383  0.335254    0.0\n",
              "..     ...      ...      ...      ...  ...       ...       ...       ...    ...\n",
              "440    460  2.91657  2.91657  2.88842  ...  0.020551  0.058200  0.353107    0.0\n",
              "441    461  1.83327  2.66658  2.35166  ...  0.020426  0.058358  0.350002    0.0\n",
              "442    462  1.58328  1.66661  1.61402  ...  0.019970  0.061858  0.322826    0.0\n",
              "443    463  3.74988  4.49985  4.23152  ...  0.020689  0.057645  0.358899    0.0\n",
              "444    464  2.74991  2.99990  2.97611  ...  0.020843  0.055993  0.372241    0.0\n",
              "\n",
              "[445 rows x 14 columns]"
            ]
          },
          "metadata": {
            "tags": []
          },
          "execution_count": 103
        }
      ]
    },
    {
      "cell_type": "code",
      "metadata": {
        "id": "cjbNK9EAPe7H",
        "colab_type": "code",
        "colab": {}
      },
      "source": [
        "data1= data1.drop(['PART#', 'DPERP', 'Mg', 'Al', 'Mg/Al'], axis = 1)"
      ],
      "execution_count": 104,
      "outputs": []
    },
    {
      "cell_type": "code",
      "metadata": {
        "id": "rn6vkQMGTRM6",
        "colab_type": "code",
        "colab": {
          "base_uri": "https://localhost:8080/",
          "height": 419
        },
        "outputId": "8ab223fc-971f-4e76-e411-f840bb4b2fc8"
      },
      "source": [
        "data1"
      ],
      "execution_count": 105,
      "outputs": [
        {
          "output_type": "execute_result",
          "data": {
            "text/html": [
              "<div>\n",
              "<style scoped>\n",
              "    .dataframe tbody tr th:only-of-type {\n",
              "        vertical-align: middle;\n",
              "    }\n",
              "\n",
              "    .dataframe tbody tr th {\n",
              "        vertical-align: top;\n",
              "    }\n",
              "\n",
              "    .dataframe thead th {\n",
              "        text-align: right;\n",
              "    }\n",
              "</style>\n",
              "<table border=\"1\" class=\"dataframe\">\n",
              "  <thead>\n",
              "    <tr style=\"text-align: right;\">\n",
              "      <th></th>\n",
              "      <th>X_FERET</th>\n",
              "      <th>Y_FERET</th>\n",
              "      <th>DAVE</th>\n",
              "      <th>DMAX</th>\n",
              "      <th>DMIN</th>\n",
              "      <th>ASPECT</th>\n",
              "      <th>AREA</th>\n",
              "      <th>PERIMETER</th>\n",
              "      <th>Class</th>\n",
              "    </tr>\n",
              "  </thead>\n",
              "  <tbody>\n",
              "    <tr>\n",
              "      <th>0</th>\n",
              "      <td>2.99990</td>\n",
              "      <td>3.58322</td>\n",
              "      <td>3.29594</td>\n",
              "      <td>3.76466</td>\n",
              "      <td>2.58417</td>\n",
              "      <td>1.45682</td>\n",
              "      <td>6.98565</td>\n",
              "      <td>12.001600</td>\n",
              "      <td>0.0</td>\n",
              "    </tr>\n",
              "    <tr>\n",
              "      <th>1</th>\n",
              "      <td>2.33326</td>\n",
              "      <td>2.08327</td>\n",
              "      <td>2.27187</td>\n",
              "      <td>2.66788</td>\n",
              "      <td>1.48360</td>\n",
              "      <td>1.79825</td>\n",
              "      <td>2.77760</td>\n",
              "      <td>7.742380</td>\n",
              "      <td>0.0</td>\n",
              "    </tr>\n",
              "    <tr>\n",
              "      <th>2</th>\n",
              "      <td>7.83308</td>\n",
              "      <td>6.83311</td>\n",
              "      <td>7.25698</td>\n",
              "      <td>7.81399</td>\n",
              "      <td>6.81158</td>\n",
              "      <td>1.14716</td>\n",
              "      <td>34.69220</td>\n",
              "      <td>29.452801</td>\n",
              "      <td>0.0</td>\n",
              "    </tr>\n",
              "    <tr>\n",
              "      <th>3</th>\n",
              "      <td>1.83327</td>\n",
              "      <td>1.74994</td>\n",
              "      <td>1.73706</td>\n",
              "      <td>1.79886</td>\n",
              "      <td>1.73710</td>\n",
              "      <td>1.03556</td>\n",
              "      <td>2.20124</td>\n",
              "      <td>6.644780</td>\n",
              "      <td>0.0</td>\n",
              "    </tr>\n",
              "    <tr>\n",
              "      <th>4</th>\n",
              "      <td>7.33309</td>\n",
              "      <td>8.41639</td>\n",
              "      <td>8.39133</td>\n",
              "      <td>8.94592</td>\n",
              "      <td>5.48010</td>\n",
              "      <td>1.63244</td>\n",
              "      <td>35.86570</td>\n",
              "      <td>34.866798</td>\n",
              "      <td>0.0</td>\n",
              "    </tr>\n",
              "    <tr>\n",
              "      <th>...</th>\n",
              "      <td>...</td>\n",
              "      <td>...</td>\n",
              "      <td>...</td>\n",
              "      <td>...</td>\n",
              "      <td>...</td>\n",
              "      <td>...</td>\n",
              "      <td>...</td>\n",
              "      <td>...</td>\n",
              "      <td>...</td>\n",
              "    </tr>\n",
              "    <tr>\n",
              "      <th>440</th>\n",
              "      <td>2.91657</td>\n",
              "      <td>2.91657</td>\n",
              "      <td>2.88842</td>\n",
              "      <td>3.16766</td>\n",
              "      <td>2.68319</td>\n",
              "      <td>1.18056</td>\n",
              "      <td>6.08988</td>\n",
              "      <td>11.335000</td>\n",
              "      <td>0.0</td>\n",
              "    </tr>\n",
              "    <tr>\n",
              "      <th>441</th>\n",
              "      <td>1.83327</td>\n",
              "      <td>2.66658</td>\n",
              "      <td>2.35166</td>\n",
              "      <td>2.68991</td>\n",
              "      <td>1.23653</td>\n",
              "      <td>2.17537</td>\n",
              "      <td>2.80537</td>\n",
              "      <td>7.791190</td>\n",
              "      <td>0.0</td>\n",
              "    </tr>\n",
              "    <tr>\n",
              "      <th>442</th>\n",
              "      <td>1.58328</td>\n",
              "      <td>1.66661</td>\n",
              "      <td>1.61402</td>\n",
              "      <td>1.76771</td>\n",
              "      <td>1.35524</td>\n",
              "      <td>1.30435</td>\n",
              "      <td>1.77766</td>\n",
              "      <td>6.055550</td>\n",
              "      <td>0.0</td>\n",
              "    </tr>\n",
              "    <tr>\n",
              "      <th>443</th>\n",
              "      <td>3.74988</td>\n",
              "      <td>4.49985</td>\n",
              "      <td>4.23152</td>\n",
              "      <td>4.74472</td>\n",
              "      <td>3.50952</td>\n",
              "      <td>1.35196</td>\n",
              "      <td>12.02000</td>\n",
              "      <td>16.085800</td>\n",
              "      <td>0.0</td>\n",
              "    </tr>\n",
              "    <tr>\n",
              "      <th>444</th>\n",
              "      <td>2.74991</td>\n",
              "      <td>2.99990</td>\n",
              "      <td>2.97611</td>\n",
              "      <td>3.25416</td>\n",
              "      <td>2.76337</td>\n",
              "      <td>1.17761</td>\n",
              "      <td>6.22876</td>\n",
              "      <td>11.217100</td>\n",
              "      <td>0.0</td>\n",
              "    </tr>\n",
              "  </tbody>\n",
              "</table>\n",
              "<p>445 rows × 9 columns</p>\n",
              "</div>"
            ],
            "text/plain": [
              "     X_FERET  Y_FERET     DAVE     DMAX  ...   ASPECT      AREA  PERIMETER  Class\n",
              "0    2.99990  3.58322  3.29594  3.76466  ...  1.45682   6.98565  12.001600    0.0\n",
              "1    2.33326  2.08327  2.27187  2.66788  ...  1.79825   2.77760   7.742380    0.0\n",
              "2    7.83308  6.83311  7.25698  7.81399  ...  1.14716  34.69220  29.452801    0.0\n",
              "3    1.83327  1.74994  1.73706  1.79886  ...  1.03556   2.20124   6.644780    0.0\n",
              "4    7.33309  8.41639  8.39133  8.94592  ...  1.63244  35.86570  34.866798    0.0\n",
              "..       ...      ...      ...      ...  ...      ...       ...        ...    ...\n",
              "440  2.91657  2.91657  2.88842  3.16766  ...  1.18056   6.08988  11.335000    0.0\n",
              "441  1.83327  2.66658  2.35166  2.68991  ...  2.17537   2.80537   7.791190    0.0\n",
              "442  1.58328  1.66661  1.61402  1.76771  ...  1.30435   1.77766   6.055550    0.0\n",
              "443  3.74988  4.49985  4.23152  4.74472  ...  1.35196  12.02000  16.085800    0.0\n",
              "444  2.74991  2.99990  2.97611  3.25416  ...  1.17761   6.22876  11.217100    0.0\n",
              "\n",
              "[445 rows x 9 columns]"
            ]
          },
          "metadata": {
            "tags": []
          },
          "execution_count": 105
        }
      ]
    },
    {
      "cell_type": "code",
      "metadata": {
        "id": "yLnItsBUTfCS",
        "colab_type": "code",
        "colab": {
          "base_uri": "https://localhost:8080/",
          "height": 419
        },
        "outputId": "e3d5a2a6-e615-4c55-d697-fc58caf9da1b"
      },
      "source": [
        "data1 =data1.dropna()\n",
        "data1"
      ],
      "execution_count": 107,
      "outputs": [
        {
          "output_type": "execute_result",
          "data": {
            "text/html": [
              "<div>\n",
              "<style scoped>\n",
              "    .dataframe tbody tr th:only-of-type {\n",
              "        vertical-align: middle;\n",
              "    }\n",
              "\n",
              "    .dataframe tbody tr th {\n",
              "        vertical-align: top;\n",
              "    }\n",
              "\n",
              "    .dataframe thead th {\n",
              "        text-align: right;\n",
              "    }\n",
              "</style>\n",
              "<table border=\"1\" class=\"dataframe\">\n",
              "  <thead>\n",
              "    <tr style=\"text-align: right;\">\n",
              "      <th></th>\n",
              "      <th>X_FERET</th>\n",
              "      <th>Y_FERET</th>\n",
              "      <th>DAVE</th>\n",
              "      <th>DMAX</th>\n",
              "      <th>DMIN</th>\n",
              "      <th>ASPECT</th>\n",
              "      <th>AREA</th>\n",
              "      <th>PERIMETER</th>\n",
              "      <th>Class</th>\n",
              "    </tr>\n",
              "  </thead>\n",
              "  <tbody>\n",
              "    <tr>\n",
              "      <th>0</th>\n",
              "      <td>2.99990</td>\n",
              "      <td>3.58322</td>\n",
              "      <td>3.29594</td>\n",
              "      <td>3.76466</td>\n",
              "      <td>2.58417</td>\n",
              "      <td>1.45682</td>\n",
              "      <td>6.98565</td>\n",
              "      <td>12.001600</td>\n",
              "      <td>0.0</td>\n",
              "    </tr>\n",
              "    <tr>\n",
              "      <th>1</th>\n",
              "      <td>2.33326</td>\n",
              "      <td>2.08327</td>\n",
              "      <td>2.27187</td>\n",
              "      <td>2.66788</td>\n",
              "      <td>1.48360</td>\n",
              "      <td>1.79825</td>\n",
              "      <td>2.77760</td>\n",
              "      <td>7.742380</td>\n",
              "      <td>0.0</td>\n",
              "    </tr>\n",
              "    <tr>\n",
              "      <th>2</th>\n",
              "      <td>7.83308</td>\n",
              "      <td>6.83311</td>\n",
              "      <td>7.25698</td>\n",
              "      <td>7.81399</td>\n",
              "      <td>6.81158</td>\n",
              "      <td>1.14716</td>\n",
              "      <td>34.69220</td>\n",
              "      <td>29.452801</td>\n",
              "      <td>0.0</td>\n",
              "    </tr>\n",
              "    <tr>\n",
              "      <th>3</th>\n",
              "      <td>1.83327</td>\n",
              "      <td>1.74994</td>\n",
              "      <td>1.73706</td>\n",
              "      <td>1.79886</td>\n",
              "      <td>1.73710</td>\n",
              "      <td>1.03556</td>\n",
              "      <td>2.20124</td>\n",
              "      <td>6.644780</td>\n",
              "      <td>0.0</td>\n",
              "    </tr>\n",
              "    <tr>\n",
              "      <th>4</th>\n",
              "      <td>7.33309</td>\n",
              "      <td>8.41639</td>\n",
              "      <td>8.39133</td>\n",
              "      <td>8.94592</td>\n",
              "      <td>5.48010</td>\n",
              "      <td>1.63244</td>\n",
              "      <td>35.86570</td>\n",
              "      <td>34.866798</td>\n",
              "      <td>0.0</td>\n",
              "    </tr>\n",
              "    <tr>\n",
              "      <th>...</th>\n",
              "      <td>...</td>\n",
              "      <td>...</td>\n",
              "      <td>...</td>\n",
              "      <td>...</td>\n",
              "      <td>...</td>\n",
              "      <td>...</td>\n",
              "      <td>...</td>\n",
              "      <td>...</td>\n",
              "      <td>...</td>\n",
              "    </tr>\n",
              "    <tr>\n",
              "      <th>440</th>\n",
              "      <td>2.91657</td>\n",
              "      <td>2.91657</td>\n",
              "      <td>2.88842</td>\n",
              "      <td>3.16766</td>\n",
              "      <td>2.68319</td>\n",
              "      <td>1.18056</td>\n",
              "      <td>6.08988</td>\n",
              "      <td>11.335000</td>\n",
              "      <td>0.0</td>\n",
              "    </tr>\n",
              "    <tr>\n",
              "      <th>441</th>\n",
              "      <td>1.83327</td>\n",
              "      <td>2.66658</td>\n",
              "      <td>2.35166</td>\n",
              "      <td>2.68991</td>\n",
              "      <td>1.23653</td>\n",
              "      <td>2.17537</td>\n",
              "      <td>2.80537</td>\n",
              "      <td>7.791190</td>\n",
              "      <td>0.0</td>\n",
              "    </tr>\n",
              "    <tr>\n",
              "      <th>442</th>\n",
              "      <td>1.58328</td>\n",
              "      <td>1.66661</td>\n",
              "      <td>1.61402</td>\n",
              "      <td>1.76771</td>\n",
              "      <td>1.35524</td>\n",
              "      <td>1.30435</td>\n",
              "      <td>1.77766</td>\n",
              "      <td>6.055550</td>\n",
              "      <td>0.0</td>\n",
              "    </tr>\n",
              "    <tr>\n",
              "      <th>443</th>\n",
              "      <td>3.74988</td>\n",
              "      <td>4.49985</td>\n",
              "      <td>4.23152</td>\n",
              "      <td>4.74472</td>\n",
              "      <td>3.50952</td>\n",
              "      <td>1.35196</td>\n",
              "      <td>12.02000</td>\n",
              "      <td>16.085800</td>\n",
              "      <td>0.0</td>\n",
              "    </tr>\n",
              "    <tr>\n",
              "      <th>444</th>\n",
              "      <td>2.74991</td>\n",
              "      <td>2.99990</td>\n",
              "      <td>2.97611</td>\n",
              "      <td>3.25416</td>\n",
              "      <td>2.76337</td>\n",
              "      <td>1.17761</td>\n",
              "      <td>6.22876</td>\n",
              "      <td>11.217100</td>\n",
              "      <td>0.0</td>\n",
              "    </tr>\n",
              "  </tbody>\n",
              "</table>\n",
              "<p>399 rows × 9 columns</p>\n",
              "</div>"
            ],
            "text/plain": [
              "     X_FERET  Y_FERET     DAVE     DMAX  ...   ASPECT      AREA  PERIMETER  Class\n",
              "0    2.99990  3.58322  3.29594  3.76466  ...  1.45682   6.98565  12.001600    0.0\n",
              "1    2.33326  2.08327  2.27187  2.66788  ...  1.79825   2.77760   7.742380    0.0\n",
              "2    7.83308  6.83311  7.25698  7.81399  ...  1.14716  34.69220  29.452801    0.0\n",
              "3    1.83327  1.74994  1.73706  1.79886  ...  1.03556   2.20124   6.644780    0.0\n",
              "4    7.33309  8.41639  8.39133  8.94592  ...  1.63244  35.86570  34.866798    0.0\n",
              "..       ...      ...      ...      ...  ...      ...       ...        ...    ...\n",
              "440  2.91657  2.91657  2.88842  3.16766  ...  1.18056   6.08988  11.335000    0.0\n",
              "441  1.83327  2.66658  2.35166  2.68991  ...  2.17537   2.80537   7.791190    0.0\n",
              "442  1.58328  1.66661  1.61402  1.76771  ...  1.30435   1.77766   6.055550    0.0\n",
              "443  3.74988  4.49985  4.23152  4.74472  ...  1.35196  12.02000  16.085800    0.0\n",
              "444  2.74991  2.99990  2.97611  3.25416  ...  1.17761   6.22876  11.217100    0.0\n",
              "\n",
              "[399 rows x 9 columns]"
            ]
          },
          "metadata": {
            "tags": []
          },
          "execution_count": 107
        }
      ]
    },
    {
      "cell_type": "code",
      "metadata": {
        "id": "MlJvsMCMUQn6",
        "colab_type": "code",
        "colab": {
          "base_uri": "https://localhost:8080/",
          "height": 442
        },
        "outputId": "72a6005d-9619-470b-bdd3-92d687acbb2d"
      },
      "source": [
        "X = data1.drop(['Class'], axis = 1)\n",
        "Y = data1['Class']\n",
        "print(X,Y)"
      ],
      "execution_count": 109,
      "outputs": [
        {
          "output_type": "stream",
          "text": [
            "     X_FERET  Y_FERET     DAVE     DMAX     DMIN   ASPECT      AREA  PERIMETER\n",
            "0    2.99990  3.58322  3.29594  3.76466  2.58417  1.45682   6.98565  12.001600\n",
            "1    2.33326  2.08327  2.27187  2.66788  1.48360  1.79825   2.77760   7.742380\n",
            "2    7.83308  6.83311  7.25698  7.81399  6.81158  1.14716  34.69220  29.452801\n",
            "3    1.83327  1.74994  1.73706  1.79886  1.73710  1.03556   2.20124   6.644780\n",
            "4    7.33309  8.41639  8.39133  8.94592  5.48010  1.63244  35.86570  34.866798\n",
            "..       ...      ...      ...      ...      ...      ...       ...        ...\n",
            "440  2.91657  2.91657  2.88842  3.16766  2.68319  1.18056   6.08988  11.335000\n",
            "441  1.83327  2.66658  2.35166  2.68991  1.23653  2.17537   2.80537   7.791190\n",
            "442  1.58328  1.66661  1.61402  1.76771  1.35524  1.30435   1.77766   6.055550\n",
            "443  3.74988  4.49985  4.23152  4.74472  3.50952  1.35196  12.02000  16.085800\n",
            "444  2.74991  2.99990  2.97611  3.25416  2.76337  1.17761   6.22876  11.217100\n",
            "\n",
            "[399 rows x 8 columns] 0      0.0\n",
            "1      0.0\n",
            "2      0.0\n",
            "3      0.0\n",
            "4      0.0\n",
            "      ... \n",
            "440    0.0\n",
            "441    0.0\n",
            "442    0.0\n",
            "443    0.0\n",
            "444    0.0\n",
            "Name: Class, Length: 399, dtype: float64\n"
          ],
          "name": "stdout"
        }
      ]
    },
    {
      "cell_type": "code",
      "metadata": {
        "id": "sQAH2MEfUrpM",
        "colab_type": "code",
        "colab": {}
      },
      "source": [
        "X_train, X_test, Y_train, Y_test = train_test_split(X, Y, test_size=0.25, random_state = 123)"
      ],
      "execution_count": 110,
      "outputs": []
    },
    {
      "cell_type": "code",
      "metadata": {
        "id": "lhYxOTpaU7dk",
        "colab_type": "code",
        "colab": {
          "base_uri": "https://localhost:8080/",
          "height": 51
        },
        "outputId": "ea4ecba2-6f13-4f04-9ac3-3ca986ba8b2d"
      },
      "source": [
        "from sklearn.metrics import accuracy_score\n",
        "from sklearn.ensemble import AdaBoostClassifier, RandomForestRegressor, RandomForestClassifier\n",
        "\n",
        "test_scores, train_scores = [], []\n",
        "for i in [1, 2, 3, 4, 5, 10, 20, 50]:\n",
        "\n",
        "    rfc = RandomForestClassifier(n_estimators=i, random_state=1111)\n",
        "    rfc.fit(X_train, Y_train) # print(rfc)\n",
        "\n",
        "    train_predictions = rfc.predict(X_train)\n",
        "    test_predictions = rfc.predict(X_test)\n",
        "\n",
        "    train_scores.append(round(accuracy_score(Y_train, train_predictions), 2))\n",
        "    test_scores.append(round(accuracy_score(Y_test, test_predictions), 2))\n",
        "\n",
        "# Print the train and test scores.\n",
        "print(\"The training scores were: {}\".format(train_scores))\n",
        "print(\"The testing scores were: {}\".format(test_scores))\n",
        "# plot the loss as well"
      ],
      "execution_count": 111,
      "outputs": [
        {
          "output_type": "stream",
          "text": [
            "The training scores were: [0.96, 0.94, 0.96, 0.97, 0.98, 0.98, 0.99, 1.0]\n",
            "The testing scores were: [0.89, 0.91, 0.89, 0.88, 0.89, 0.9, 0.89, 0.89]\n"
          ],
          "name": "stdout"
        }
      ]
    },
    {
      "cell_type": "code",
      "metadata": {
        "id": "nWxwc0yKVW1t",
        "colab_type": "code",
        "colab": {
          "base_uri": "https://localhost:8080/",
          "height": 282
        },
        "outputId": "6262fb3b-e03d-4ad2-ca90-5b02f68f980e"
      },
      "source": [
        "z = [1, 2, 3, 4, 5, 10, 20, 50]\n",
        "plt.plot(z, train_scores, linewidth=2)\n",
        "plt.plot(z, test_scores, linewidth=2)\n",
        "plt.legend(['train_score', 'test_score'], loc='lower right')"
      ],
      "execution_count": 112,
      "outputs": [
        {
          "output_type": "execute_result",
          "data": {
            "text/plain": [
              "<matplotlib.legend.Legend at 0x7f7fd7aec748>"
            ]
          },
          "metadata": {
            "tags": []
          },
          "execution_count": 112
        },
        {
          "output_type": "display_data",
          "data": {
            "image/png": "[encoded data removed]",
            "text/plain": [
              "<Figure size 432x288 with 1 Axes>"
            ]
          },
          "metadata": {
            "tags": [],
            "needs_background": "light"
          }
        }
      ]
    }
  ]
}