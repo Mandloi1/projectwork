{
  "nbformat": 4,
  "nbformat_minor": 0,
  "metadata": {
    "colab": {
      "name": "193110034_A3.ipynb",
      "provenance": [],
      "collapsed_sections": [],
      "authorship_tag": "ABX9TyMAgUsMG+urjSg0Q2pzHBj0",
      "include_colab_link": true
    },
    "kernelspec": {
      "name": "python3",
      "display_name": "Python 3"
    }
  },
  "cells": [
    {
      "cell_type": "markdown",
      "metadata": {
        "id": "view-in-github",
        "colab_type": "text"
      },
      "source": [
        "<a href=\"https://colab.research.google.com/github/Mandloi1/projectwork/blob/master/193110034_A3.ipynb\" target=\"_parent\"><img src=\"https://colab.research.google.com/assets/colab-badge.svg\" alt=\"Open In Colab\"/></a>"
      ]
    },
    {
      "cell_type": "code",
      "metadata": {
        "id": "vUU52GvCm80M",
        "colab_type": "code",
        "colab": {
          "base_uri": "https://localhost:8080/",
          "height": 221
        },
        "outputId": "92c55531-b897-41d8-cc2f-969705f8e188"
      },
      "source": [
        "from math import*\n",
        "d1=[]    #input data d1 and d2\n",
        "for i in range(int(input(\"How many elements are in data point1 : \"))):  \n",
        " d1.append(float(input())) \n",
        "print(d1) \n",
        "d2=[]  \n",
        "for j in range(int(input(\"How many elements are in data point2 : \"))):  \n",
        " d2.append(float(input())) \n",
        "print(d2) \n",
        "measure = input(\"enter similarity or dissimilarity measure  :\") # input Dissimilarity and similarity Abbreviation\n",
        "\n",
        "if measure == \"EN\":      # EUCLIDEAN NORM\n",
        "  def EN(d1,d2):\n",
        "   return sqrt(sum(pow(a-b,2) for a, b in zip(d1, d2)))\n",
        "  print(\"Dissimilarity measure Euclidean norm : {}\".format(EN(d1,d2)))\n",
        "\n",
        "elif measure ==\"LMN\":   # MINKOWSKI NORM\n",
        "  from decimal import Decimal\n",
        "  p_value = int(input(\"input p_value\"))\n",
        "  def nth_root(value, n_root):\n",
        "   root_value = 1/float(n_root)\n",
        "   return round (Decimal(value) ** Decimal(root_value),3)\n",
        "  def LMN(d1,d2,p_value):\n",
        "   return nth_root(sum(pow(abs(a-b),p_value) for a,b in zip(d1,d2)),p_value)\n",
        "   \n",
        "  print(\"Dissimilarity measure Minkowski norm : {}\".format(LMN(d1,d2,p_value)))\n",
        "\n",
        "elif measure ==\"JS\":    # JACCARD SIMILARITY\n",
        "  def JS(d1,d2):\n",
        "    intersection_cardinality = len(set.intersection(*[set(d1), set(d2)]))\n",
        "    union_cardinality = len(set.union(*[set(d1), set(d2)]))\n",
        "    return intersection_cardinality/float(union_cardinality)\n",
        "  print(\"Similarity measure Jaccard  : {}\".format(JS(d1,d2)))\n",
        "\n",
        "elif measure ==\"CS\":     # COSINE SIMILARITY\n",
        " def square_rooted(d1):\n",
        "    return round(sqrt(sum([a*a for a in d1])),3)\n",
        " def CS(d1,d2):\n",
        "   numerator = sum(a*b for a,b in zip(d1,d2))\n",
        "   denominator = square_rooted(d1)*square_rooted(d2)\n",
        "   return round(numerator/float(denominator),3)\n",
        " print(\"Similarity measure Cosine  : {}\".format(CS(d1,d2))) \n",
        "\n",
        "elif measure ==\"OS\":     # OVERLAP SIMILARITY\n",
        " def square(d1):\n",
        "    return round(sum([a*a for a in d1]))\n",
        " def OS(d1,d2):\n",
        "   numerator = sum(a*b for a,b in zip(d1,d2))\n",
        "   denominator = min(square(d1),square(d2))\n",
        "   return round(numerator/float(denominator),3)\n",
        "\n",
        " print(\"Similarity measure Overlap  : {}\".format(OS(d1,d2))) \n",
        "elif measure ==\"DS\":     # DICE SIMILARITY\n",
        " def DS(d1,d2):\n",
        "    inter_ = len(set.intersection(*[set(d1), set(d2)]))\n",
        "    union_= len(set.union(*[set(d1), set(d2)]))\n",
        "    jac_  = inter_/float(union_)\n",
        "    return 2*jac_/(1+jac_)\n",
        "     \n",
        " print(\"Similarity measure Dice  : {}\".format(DS(d1,d2)))\n",
        "\n",
        "else:\n",
        " print(\"wrong input measure\")\n"
      ],
      "execution_count": 77,
      "outputs": [
        {
          "output_type": "stream",
          "text": [
            "How many elements are in data point1 : 3\n",
            "1365485\n",
            "246312\n",
            "851485\n",
            "[1365485.0, 246312.0, 851485.0]\n",
            "How many elements are in data point2 : 3\n",
            "7846512\n",
            "8746512\n",
            "4512\n",
            "[7846512.0, 8746512.0, 4512.0]\n",
            "enter similarity or dissimilarity measure  :DS\n",
            "Similarity measure Dice  : 0.0\n"
          ],
          "name": "stdout"
        }
      ]
    }
  ]
}