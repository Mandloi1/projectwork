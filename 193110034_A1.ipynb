{
  "nbformat": 4,
  "nbformat_minor": 0,
  "metadata": {
    "colab": {
      "name": "193110034_A1.ipynb",
      "provenance": [],
      "collapsed_sections": [],
      "authorship_tag": "ABX9TyM5ztzApv/Lb4i+943dJKLz",
      "include_colab_link": true
    },
    "kernelspec": {
      "name": "python3",
      "display_name": "Python 3"
    }
  },
  "cells": [
    {
      "cell_type": "markdown",
      "metadata": {
        "id": "view-in-github",
        "colab_type": "text"
      },
      "source": [
        "<a href=\"https://colab.research.google.com/github/Mandloi1/projectwork/blob/master/193110034_A1.ipynb\" target=\"_parent\"><img src=\"https://colab.research.google.com/assets/colab-badge.svg\" alt=\"Open In Colab\"/></a>"
      ]
    },
    {
      "cell_type": "markdown",
      "metadata": {
        "id": "Zy5R0IAg2uvp",
        "colab_type": "text"
      },
      "source": [
        "**1st Problem:Code that will take an integer as an input and output all prime numbers less than the input number.**"
      ]
    },
    {
      "cell_type": "code",
      "metadata": {
        "id": "EZmFPXPqzJpi",
        "colab_type": "code",
        "colab": {
          "base_uri": "https://localhost:8080/",
          "height": 68
        },
        "outputId": "ff95736f-baa9-40d3-bcc8-f19f015f86a0"
      },
      "source": [
        "n  = input(\"Enter the number: \")    #Input the number\n",
        "def get_primenumbers(n):            # Defining of prime function\n",
        "    primes = []                      \n",
        "    for j in range (2, n):           #1st loop to run upto input number \n",
        "        for i in range(2, int(j**0.5)+1): #2st loop to check wheather the number is prime or not  \n",
        "            if j % i == 0:\n",
        "                break\n",
        "        else:\n",
        "            primes.append(j)     # Add prime numbers into the list upto input number\n",
        "    primes.sort()\n",
        "    return primes\n",
        "\n",
        "def isint(n):              # To check number is integer or not\n",
        "    try:\n",
        "        int(n)\n",
        "        return True\n",
        "    except:\n",
        "        return False\n",
        " \n",
        "def isfloat(n):            # To check number is float or not\n",
        "    try:\n",
        "        float(n)\n",
        "        return True\n",
        "    except:\n",
        "        return False\n",
        " \n",
        "if(isint(n)):                               #calling of functions first to check its data type and later call for get_prime numbers fuction\n",
        "    if(int(n)<0):\n",
        "      print(\"It is a negative integer\")\n",
        "      print(get_primenumbers(int(n)))\n",
        "    else:\n",
        "      print(\"It is an integer\")\n",
        "      print(get_primenumbers(int(n)))\n",
        "elif(isfloat(n)):\n",
        "  if(float(n)<0):\n",
        "    print(\"It is a negative float\")\n",
        "    print(get_primenumbers(int(float(n))))\n",
        "  else:\n",
        "    print(\"It is a float\")\n",
        "    print(get_primenumbers(int(float(n))))\n",
        "elif (isint(n) and isfloat(n))==False:\n",
        "  print(\"It is string\")"
      ],
      "execution_count": 35,
      "outputs": [
        {
          "output_type": "stream",
          "text": [
            "Enter the number: 45.5\n",
            "It is a float\n",
            "[2, 3, 5, 7, 11, 13, 17, 19, 23, 29, 31, 37, 41, 43]\n"
          ],
          "name": "stdout"
        }
      ]
    },
    {
      "cell_type": "markdown",
      "metadata": {
        "id": "FGNOCloFzLHW",
        "colab_type": "text"
      },
      "source": [
        "**2nd Problem: -Tower of Hanoi using recursion**"
      ]
    },
    {
      "cell_type": "code",
      "metadata": {
        "id": "9Bd1kDdAvieD",
        "colab_type": "code",
        "colab": {
          "base_uri": "https://localhost:8080/",
          "height": 170
        },
        "outputId": "17c68a20-32b7-4b7e-883e-df58a70e90d6"
      },
      "source": [
        "i = 0\n",
        "n = int (input('input = ')) #Input the number of rings\n",
        "def hanoifun(n, A, C, B):   #defining recursive fuction\n",
        "    global i\n",
        "    if n > 0:\n",
        "        hanoifun(n - 1, A, B,C) #calling of function itself\n",
        "        i+=1\n",
        "        print(\"Step: \",i,A,B,C) #printing of steps for ring movement in each steps\n",
        "        \n",
        "        if A:\n",
        "            B.append(A.pop()) #adding of rings to target \n",
        "        hanoifun(n - 1, C, A, B)\n",
        "        \n",
        "A = [n, n-1, n-2] #creat list\n",
        "B = []\n",
        "C = []\n",
        "hanoifun(n,A,C,B)\n",
        "\n",
        "print (\"Final step :\",A,B,C)"
      ],
      "execution_count": 25,
      "outputs": [
        {
          "output_type": "stream",
          "text": [
            "input = 3\n",
            "Step:  1 [3, 2, 1] [] []\n",
            "Step:  2 [3, 2] [] [1]\n",
            "Step:  3 [1] [2] [3]\n",
            "Step:  4 [3] [] [2, 1]\n",
            "Step:  5 [2, 1] [] [3]\n",
            "Step:  6 [2] [3] [1]\n",
            "Step:  7 [1] [3, 2] []\n",
            "Final step : [] [3, 2, 1] []\n"
          ],
          "name": "stdout"
        }
      ]
    }
  ]
}